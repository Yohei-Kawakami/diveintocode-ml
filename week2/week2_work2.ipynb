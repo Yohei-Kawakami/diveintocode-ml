{
 "cells": [
  {
   "cell_type": "markdown",
   "metadata": {
    "collapsed": true
   },
   "source": [
    "# Week2 / assignment2"
   ]
  },
  {
   "cell_type": "markdown",
   "metadata": {},
   "source": [
    "## 1. Generate a one-dimensional array"
   ]
  },
  {
   "cell_type": "code",
   "execution_count": 56,
   "metadata": {},
   "outputs": [
    {
     "name": "stdout",
     "output_type": "stream",
     "text": [
      "[ 0.    0.01  0.02  0.03  0.04  0.05  0.06  0.07  0.08  0.09  0.1   0.11\n",
      "  0.12  0.13  0.14  0.15  0.16  0.17  0.18  0.19  0.2   0.21  0.22  0.23\n",
      "  0.24  0.25  0.26  0.27  0.28  0.29  0.3   0.31  0.32  0.33  0.34  0.35\n",
      "  0.36  0.37  0.38  0.39  0.4   0.41  0.42  0.43  0.44  0.45  0.46  0.47\n",
      "  0.48  0.49  0.5   0.51  0.52  0.53  0.54  0.55  0.56  0.57  0.58  0.59\n",
      "  0.6   0.61  0.62  0.63  0.64  0.65  0.66  0.67  0.68  0.69  0.7   0.71\n",
      "  0.72  0.73  0.74  0.75  0.76  0.77  0.78  0.79  0.8   0.81  0.82  0.83\n",
      "  0.84  0.85  0.86  0.87  0.88  0.89  0.9   0.91  0.92  0.93  0.94  0.95\n",
      "  0.96  0.97  0.98  0.99]\n"
     ]
    },
    {
     "data": {
      "text/plain": [
       "100"
      ]
     },
     "execution_count": 56,
     "metadata": {},
     "output_type": "execute_result"
    }
   ],
   "source": [
    "import numpy as np\n",
    "\n",
    "# Generate x ; a permutation 0-1:0.01\n",
    "generated_per_x = np.arange(0, 1, 0.01)\n",
    "\n",
    "print(generated_per_x)\n",
    "len(generated_per_x)"
   ]
  },
  {
   "cell_type": "markdown",
   "metadata": {},
   "source": [
    "## 2. Generate a two dimensional array"
   ]
  },
  {
   "cell_type": "code",
   "execution_count": 57,
   "metadata": {
    "collapsed": true
   },
   "outputs": [],
   "source": [
    "generated_per_y = np.array([]) \n",
    "\n",
    "# Generate axis y\n",
    "for num in generated_per_x:\n",
    "    y = 1/2*num + 1\n",
    "    generated_per_y = np.append(generated_per_y, y)\n",
    "\n",
    "# Combine axis x and y\n",
    "generated_per = np.array([generated_per_x, generated_per_y])"
   ]
  },
  {
   "cell_type": "markdown",
   "metadata": {},
   "source": [
    "## 3. Calculate the gradient"
   ]
  },
  {
   "cell_type": "code",
   "execution_count": 59,
   "metadata": {},
   "outputs": [
    {
     "name": "stdout",
     "output_type": "stream",
     "text": [
      "[ 0.5  0.5  0.5  0.5  0.5  0.5  0.5  0.5  0.5  0.5  0.5  0.5  0.5  0.5  0.5\n",
      "  0.5  0.5  0.5  0.5  0.5  0.5  0.5  0.5  0.5  0.5  0.5  0.5  0.5  0.5  0.5\n",
      "  0.5  0.5  0.5  0.5  0.5  0.5  0.5  0.5  0.5  0.5  0.5  0.5  0.5  0.5  0.5\n",
      "  0.5  0.5  0.5  0.5  0.5  0.5  0.5  0.5  0.5  0.5  0.5  0.5  0.5  0.5  0.5\n",
      "  0.5  0.5  0.5  0.5  0.5  0.5  0.5  0.5  0.5  0.5  0.5  0.5  0.5  0.5  0.5\n",
      "  0.5  0.5  0.5  0.5  0.5  0.5  0.5  0.5  0.5  0.5  0.5  0.5  0.5  0.5  0.5\n",
      "  0.5  0.5  0.5  0.5  0.5  0.5  0.5  0.5  0.5  0.5]\n"
     ]
    },
    {
     "data": {
      "text/plain": [
       "100"
      ]
     },
     "execution_count": 59,
     "metadata": {},
     "output_type": "execute_result"
    }
   ],
   "source": [
    "# input: x and y\n",
    "\n",
    "grad_per = np.array([]) \n",
    "\n",
    "for num in range(100):\n",
    "    if num < 99:\n",
    "        grad_per = np.append(grad_per, (generated_per[1][num+1]- generated_per[1][num])\n",
    "                                   / (generated_per[0][num+1] - generated_per[0][num]))\n",
    "    else:\n",
    "        grad_per = np.append(grad_per, (generated_per[1][num]- generated_per[1][num-1])\n",
    "                                   / (generated_per[0][num] - generated_per[0][num-1]))\n",
    "#output: list of gradient\n",
    "print(grad_per) \n",
    "len(grad_per)"
   ]
  },
  {
   "cell_type": "markdown",
   "metadata": {},
   "source": [
    "## 4. Generate an array, gradient, graph"
   ]
  },
  {
   "cell_type": "code",
   "execution_count": 69,
   "metadata": {
    "collapsed": true
   },
   "outputs": [],
   "source": [
    "generated_per_y2 = np.array([]) \n",
    "\n",
    "# Generate axis y\n",
    "for num in generated_per_x:\n",
    "    y2 = num**2\n",
    "    generated_per_y2 = np.append(generated_per_y2, y2)\n",
    "\n",
    "# Combine axis x and y\n",
    "generated_per_2 = np.array([generated_per_x, generated_per_y2])"
   ]
  },
  {
   "cell_type": "code",
   "execution_count": 72,
   "metadata": {},
   "outputs": [
    {
     "name": "stdout",
     "output_type": "stream",
     "text": [
      "[ 0.01  0.03  0.05  0.07  0.09  0.11  0.13  0.15  0.17  0.19  0.21  0.23\n",
      "  0.25  0.27  0.29  0.31  0.33  0.35  0.37  0.39  0.41  0.43  0.45  0.47\n",
      "  0.49  0.51  0.53  0.55  0.57  0.59  0.61  0.63  0.65  0.67  0.69  0.71\n",
      "  0.73  0.75  0.77  0.79  0.81  0.83  0.85  0.87  0.89  0.91  0.93  0.95\n",
      "  0.97  0.99  1.01  1.03  1.05  1.07  1.09  1.11  1.13  1.15  1.17  1.19\n",
      "  1.21  1.23  1.25  1.27  1.29  1.31  1.33  1.35  1.37  1.39  1.41  1.43\n",
      "  1.45  1.47  1.49  1.51  1.53  1.55  1.57  1.59  1.61  1.63  1.65  1.67\n",
      "  1.69  1.71  1.73  1.75  1.77  1.79  1.81  1.83  1.85  1.87  1.89  1.91\n",
      "  1.93  1.95  1.97  1.97]\n"
     ]
    },
    {
     "data": {
      "text/plain": [
       "100"
      ]
     },
     "execution_count": 72,
     "metadata": {},
     "output_type": "execute_result"
    }
   ],
   "source": [
    "# input: x and y\n",
    "\n",
    "grad_per_2 = np.array([]) \n",
    "\n",
    "for num in range(100):\n",
    "    if num < 99:\n",
    "        grad_per_2 = np.append(grad_per_2, (generated_per_2[1][num+1]- generated_per_2[1][num])\n",
    "                                   / (generated_per_2[0][num+1] - generated_per_2[0][num]))\n",
    "    else:\n",
    "        grad_per_2 = np.append(grad_per_2, (generated_per_2[1][num]- generated_per_2[1][num-1])\n",
    "                                   / (generated_per_2[0][num] - generated_per_2[0][num-1]))\n",
    "#output: list of gradient\n",
    "print(grad_per_2) \n",
    "len(grad_per_2)"
   ]
  },
  {
   "cell_type": "markdown",
   "metadata": {},
   "source": [
    "## 5. Explain how to find the minimum value\n",
    "### :      Stochastic gradient descent method"
   ]
  },
  {
   "cell_type": "markdown",
   "metadata": {},
   "source": [
    "各点での勾配をベースに次のxの値を決め、またその位置での傾きを調べ、次にyが減少する方向に向かって、降下して行く、という事を繰り返して極少値（ここではx=0, y=0）にたどり着く。勾配降下法では、最小値に近ずくにつれ、傾きもなだらかになっていくので、1回のステップで進む量がだんだん小さくなり、それがある基準より小さくなるとストップする。"
   ]
  },
  {
   "cell_type": "markdown",
   "metadata": {},
   "source": [
    "## 6. Calculate the minimum value"
   ]
  },
  {
   "cell_type": "markdown",
   "metadata": {},
   "source": [
    "y = X**2 + 5*x - ①\n",
    "\n",
    "Differentiate about x:\n",
    "y' = 2x + 5\n",
    "\n",
    "It becomes minimum when y'= 0:\n",
    "\n",
    "0 = 2x + 5\n",
    "\n",
    "⇔ x = -5/2\n",
    "\n",
    "from ①\n",
    "\n",
    "   y = -25/4\n",
    "   \n",
    "hence mimimum value is\n",
    "\n",
    "(x, y) = (-5/2, -25/4)"
   ]
  },
  {
   "cell_type": "code",
   "execution_count": null,
   "metadata": {
    "collapsed": true
   },
   "outputs": [],
   "source": []
  }
 ],
 "metadata": {
  "kernelspec": {
   "display_name": "Python 3",
   "language": "python",
   "name": "python3"
  },
  "language_info": {
   "codemirror_mode": {
    "name": "ipython",
    "version": 3
   },
   "file_extension": ".py",
   "mimetype": "text/x-python",
   "name": "python",
   "nbconvert_exporter": "python",
   "pygments_lexer": "ipython3",
   "version": "3.6.2"
  }
 },
 "nbformat": 4,
 "nbformat_minor": 2
}
