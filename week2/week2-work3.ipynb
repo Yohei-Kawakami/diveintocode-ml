{
 "cells": [
  {
   "cell_type": "markdown",
   "metadata": {},
   "source": [
    "# week2 / assignment3"
   ]
  },
  {
   "cell_type": "markdown",
   "metadata": {},
   "source": [
    "### 1. Inner product of vector"
   ]
  },
  {
   "cell_type": "markdown",
   "metadata": {},
   "source": [
    "$$\n",
    "    % \"boldsymbol\"で太字にしている\n",
    "    \\boldsymbol{A} =\n",
    "        % ベクトルや行列は\"left[\"と\"right]\"でベクトルや行列の括弧を作る\n",
    "        % 括弧内に\"array\"環境を展開する\n",
    "        % {c|cc}の形で中央揃え、縦線、中央揃え*2の並びに出来る\n",
    "        \\left[\\begin{array}{ccc}\n",
    "            -1 & 2 & 3\\\\\n",
    "            4 & -5 & 6 \\\\\n",
    "            7 & 8 & -9\\\\\n",
    "        \\end{array}\\right] \\quad\n",
    "    \\boldsymbol{B} =\n",
    "        \\left[\\begin{array}{ccc}\n",
    "            % 横並びは&を挟む\n",
    "            0 & 2 & 1 \\\\\n",
    "            0 & 2 & -8 \\\\\n",
    "            2 & 9 & -1 \\\\\n",
    "        \\end{array}\\right] \\quad\n",
    "$$\n",
    "\n",
    "\n",
    "行列の内積A*Bを手計算でときなさい。\n",
    "\n",
    "\n",
    "A・B = -1*0 + 2*2 + 3*1 \n",
    "      + 4*0 + -5*2 + 6*-8\n",
    "      +7*2 +8*9 +-9*-1\n",
    "     \n",
    "     =  -1 +   4 +   3 \n",
    "       + 0  + -10 + -48\n",
    "       + 14 +  72 +  9\n",
    "     \n",
    "###   A・B = 43\n"
   ]
  },
  {
   "cell_type": "markdown",
   "metadata": {},
   "source": [
    "### 2. Calculate inner product of one dimensional array by for statement"
   ]
  },
  {
   "cell_type": "code",
   "execution_count": 91,
   "metadata": {},
   "outputs": [
    {
     "name": "stdout",
     "output_type": "stream",
     "text": [
      "6.0\n"
     ]
    }
   ],
   "source": [
    "import numpy as np\n",
    "\n",
    "A = np.array([[-1, 2, 3],\n",
    "             [4, -5, 6],\n",
    "             [7,  8, -9]])\n",
    "\n",
    "B = np.array([[0, 2, 1],\n",
    "             [0, 2, -8],\n",
    "             [2,  9, -1]])\n",
    "\n",
    "A_B = np.array([])\n",
    "array1 = np.array([])\n",
    "\n",
    "for num1 in range(3):\n",
    "        count = 0\n",
    "        t = 0\n",
    "        for num2 in range(3):\n",
    "            t += A[count][num2]*B[num2][num1]\n",
    "        array1 = np.append(t, array1)\n",
    "\n",
    "print((array1)[::-1][0])\n"
   ]
  },
  {
   "cell_type": "markdown",
   "metadata": {},
   "source": [
    "### 3.  How can we get all the elements?"
   ]
  },
  {
   "cell_type": "code",
   "execution_count": 92,
   "metadata": {
    "scrolled": false
   },
   "outputs": [
    {
     "name": "stdout",
     "output_type": "stream",
     "text": [
      "[[  6.  29. -20.]\n",
      " [ 12.  52.  38.]\n",
      " [-18. -51. -48.]]\n"
     ]
    }
   ],
   "source": [
    "A_B = np.array([])\n",
    "array1 = np.array([])\n",
    "\n",
    "\n",
    "for num0 in range(3):\n",
    "    count = num0\n",
    "\n",
    "    for num1 in range(3):\n",
    "        t = 0\n",
    "        for num2 in range(3):\n",
    "            t += A[count][num2]*B[num2][num1]\n",
    "        array1 = np.append(t, array1)\n",
    "\n",
    "    \n",
    "print(np.reshape((array1)[::-1], (3, 3)))\n",
    "    \n"
   ]
  },
  {
   "cell_type": "markdown",
   "metadata": {},
   "source": [
    "### 4.Calculate inner product by np.dot"
   ]
  },
  {
   "cell_type": "code",
   "execution_count": 93,
   "metadata": {},
   "outputs": [
    {
     "name": "stdout",
     "output_type": "stream",
     "text": [
      "[[  6  29 -20]\n",
      " [ 12  52  38]\n",
      " [-18 -51 -48]]\n"
     ]
    }
   ],
   "source": [
    "print(np.dot(A, B))"
   ]
  },
  {
   "cell_type": "markdown",
   "metadata": {},
   "source": []
  },
  {
   "cell_type": "markdown",
   "metadata": {},
   "source": [
    "### 5. What if you can not do inner product?"
   ]
  },
  {
   "cell_type": "code",
   "execution_count": 94,
   "metadata": {},
   "outputs": [
    {
     "name": "stdout",
     "output_type": "stream",
     "text": [
      "[[ 46  -4]\n",
      " [-34  73]]\n"
     ]
    }
   ],
   "source": [
    "A = np.array([[-1, 2, 3],\n",
    "             [4, -5, 6]])\n",
    "\n",
    "B = np.array([[-9, 8, 7],\n",
    "             [6, -5,4]])\n",
    "\n",
    "# Generate transposed matrix             \n",
    "B_T = B.T\n",
    "              \n",
    "print(np.dot(A, B_T))"
   ]
  },
  {
   "cell_type": "code",
   "execution_count": null,
   "metadata": {
    "collapsed": true
   },
   "outputs": [],
   "source": []
  }
 ],
 "metadata": {
  "kernelspec": {
   "display_name": "Python 3",
   "language": "python",
   "name": "python3"
  },
  "language_info": {
   "codemirror_mode": {
    "name": "ipython",
    "version": 3
   },
   "file_extension": ".py",
   "mimetype": "text/x-python",
   "name": "python",
   "nbconvert_exporter": "python",
   "pygments_lexer": "ipython3",
   "version": "3.6.2"
  }
 },
 "nbformat": 4,
 "nbformat_minor": 2
}
