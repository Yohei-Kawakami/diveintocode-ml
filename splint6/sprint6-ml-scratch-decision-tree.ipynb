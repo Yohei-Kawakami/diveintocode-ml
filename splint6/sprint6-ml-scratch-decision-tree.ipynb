{
 "cells": [
  {
   "cell_type": "markdown",
   "metadata": {},
   "source": [
    "## データ分析の趣旨\n",
    "iris dataにおける'versicolor', 'virginica'を分類することを目的とし、\n",
    "<br>説明変数にsepal length (cm)と  'petal length (cm)'をとり、簡単なEDAで仮説をたててから検証する。"
   ]
  },
  {
   "cell_type": "code",
   "execution_count": 1,
   "metadata": {},
   "outputs": [],
   "source": [
    "# import module\n",
    "import pandas as pd\n",
    "import numpy as np\n",
    "\n",
    "from sklearn.model_selection import train_test_split"
   ]
  },
  {
   "cell_type": "code",
   "execution_count": 2,
   "metadata": {},
   "outputs": [
    {
     "data": {
      "text/plain": [
       "['setosa', 'versicolor', 'virginica']"
      ]
     },
     "execution_count": 2,
     "metadata": {},
     "output_type": "execute_result"
    }
   ],
   "source": [
    "# import iris data\n",
    "from sklearn.datasets import load_iris\n",
    "iris_dataset = load_iris()\n",
    "list(iris_dataset.target_names)"
   ]
  },
  {
   "cell_type": "code",
   "execution_count": 3,
   "metadata": {},
   "outputs": [],
   "source": [
    "# Check an iris dataset\n",
    "# iris_dataset"
   ]
  },
  {
   "cell_type": "code",
   "execution_count": 4,
   "metadata": {},
   "outputs": [],
   "source": [
    "# mold the array of iris to dataframe\n",
    "X = pd.DataFrame(np.array(iris_dataset.data)) "
   ]
  },
  {
   "cell_type": "code",
   "execution_count": 5,
   "metadata": {},
   "outputs": [
    {
     "data": {
      "text/html": [
       "<div>\n",
       "<style scoped>\n",
       "    .dataframe tbody tr th:only-of-type {\n",
       "        vertical-align: middle;\n",
       "    }\n",
       "\n",
       "    .dataframe tbody tr th {\n",
       "        vertical-align: top;\n",
       "    }\n",
       "\n",
       "    .dataframe thead th {\n",
       "        text-align: right;\n",
       "    }\n",
       "</style>\n",
       "<table border=\"1\" class=\"dataframe\">\n",
       "  <thead>\n",
       "    <tr style=\"text-align: right;\">\n",
       "      <th></th>\n",
       "      <th>0</th>\n",
       "      <th>1</th>\n",
       "      <th>2</th>\n",
       "      <th>3</th>\n",
       "    </tr>\n",
       "  </thead>\n",
       "  <tbody>\n",
       "    <tr>\n",
       "      <th>0</th>\n",
       "      <td>5.1</td>\n",
       "      <td>3.5</td>\n",
       "      <td>1.4</td>\n",
       "      <td>0.2</td>\n",
       "    </tr>\n",
       "    <tr>\n",
       "      <th>1</th>\n",
       "      <td>4.9</td>\n",
       "      <td>3.0</td>\n",
       "      <td>1.4</td>\n",
       "      <td>0.2</td>\n",
       "    </tr>\n",
       "    <tr>\n",
       "      <th>2</th>\n",
       "      <td>4.7</td>\n",
       "      <td>3.2</td>\n",
       "      <td>1.3</td>\n",
       "      <td>0.2</td>\n",
       "    </tr>\n",
       "    <tr>\n",
       "      <th>3</th>\n",
       "      <td>4.6</td>\n",
       "      <td>3.1</td>\n",
       "      <td>1.5</td>\n",
       "      <td>0.2</td>\n",
       "    </tr>\n",
       "    <tr>\n",
       "      <th>4</th>\n",
       "      <td>5.0</td>\n",
       "      <td>3.6</td>\n",
       "      <td>1.4</td>\n",
       "      <td>0.2</td>\n",
       "    </tr>\n",
       "  </tbody>\n",
       "</table>\n",
       "</div>"
      ],
      "text/plain": [
       "     0    1    2    3\n",
       "0  5.1  3.5  1.4  0.2\n",
       "1  4.9  3.0  1.4  0.2\n",
       "2  4.7  3.2  1.3  0.2\n",
       "3  4.6  3.1  1.5  0.2\n",
       "4  5.0  3.6  1.4  0.2"
      ]
     },
     "execution_count": 5,
     "metadata": {},
     "output_type": "execute_result"
    }
   ],
   "source": [
    "# head\n",
    "X.head()"
   ]
  },
  {
   "cell_type": "code",
   "execution_count": 6,
   "metadata": {},
   "outputs": [
    {
     "name": "stdout",
     "output_type": "stream",
     "text": [
      "<class 'pandas.core.frame.DataFrame'>\n",
      "RangeIndex: 150 entries, 0 to 149\n",
      "Data columns (total 4 columns):\n",
      "0    150 non-null float64\n",
      "1    150 non-null float64\n",
      "2    150 non-null float64\n",
      "3    150 non-null float64\n",
      "dtypes: float64(4)\n",
      "memory usage: 4.8 KB\n"
     ]
    }
   ],
   "source": [
    "# info\n",
    "X.info()"
   ]
  },
  {
   "cell_type": "code",
   "execution_count": 7,
   "metadata": {},
   "outputs": [
    {
     "data": {
      "text/html": [
       "<div>\n",
       "<style scoped>\n",
       "    .dataframe tbody tr th:only-of-type {\n",
       "        vertical-align: middle;\n",
       "    }\n",
       "\n",
       "    .dataframe tbody tr th {\n",
       "        vertical-align: top;\n",
       "    }\n",
       "\n",
       "    .dataframe thead th {\n",
       "        text-align: right;\n",
       "    }\n",
       "</style>\n",
       "<table border=\"1\" class=\"dataframe\">\n",
       "  <thead>\n",
       "    <tr style=\"text-align: right;\">\n",
       "      <th></th>\n",
       "      <th>0</th>\n",
       "      <th>1</th>\n",
       "      <th>2</th>\n",
       "      <th>3</th>\n",
       "    </tr>\n",
       "  </thead>\n",
       "  <tbody>\n",
       "    <tr>\n",
       "      <th>count</th>\n",
       "      <td>150.000000</td>\n",
       "      <td>150.000000</td>\n",
       "      <td>150.000000</td>\n",
       "      <td>150.000000</td>\n",
       "    </tr>\n",
       "    <tr>\n",
       "      <th>mean</th>\n",
       "      <td>5.843333</td>\n",
       "      <td>3.057333</td>\n",
       "      <td>3.758000</td>\n",
       "      <td>1.199333</td>\n",
       "    </tr>\n",
       "    <tr>\n",
       "      <th>std</th>\n",
       "      <td>0.828066</td>\n",
       "      <td>0.435866</td>\n",
       "      <td>1.765298</td>\n",
       "      <td>0.762238</td>\n",
       "    </tr>\n",
       "    <tr>\n",
       "      <th>min</th>\n",
       "      <td>4.300000</td>\n",
       "      <td>2.000000</td>\n",
       "      <td>1.000000</td>\n",
       "      <td>0.100000</td>\n",
       "    </tr>\n",
       "    <tr>\n",
       "      <th>25%</th>\n",
       "      <td>5.100000</td>\n",
       "      <td>2.800000</td>\n",
       "      <td>1.600000</td>\n",
       "      <td>0.300000</td>\n",
       "    </tr>\n",
       "    <tr>\n",
       "      <th>50%</th>\n",
       "      <td>5.800000</td>\n",
       "      <td>3.000000</td>\n",
       "      <td>4.350000</td>\n",
       "      <td>1.300000</td>\n",
       "    </tr>\n",
       "    <tr>\n",
       "      <th>75%</th>\n",
       "      <td>6.400000</td>\n",
       "      <td>3.300000</td>\n",
       "      <td>5.100000</td>\n",
       "      <td>1.800000</td>\n",
       "    </tr>\n",
       "    <tr>\n",
       "      <th>max</th>\n",
       "      <td>7.900000</td>\n",
       "      <td>4.400000</td>\n",
       "      <td>6.900000</td>\n",
       "      <td>2.500000</td>\n",
       "    </tr>\n",
       "  </tbody>\n",
       "</table>\n",
       "</div>"
      ],
      "text/plain": [
       "                0           1           2           3\n",
       "count  150.000000  150.000000  150.000000  150.000000\n",
       "mean     5.843333    3.057333    3.758000    1.199333\n",
       "std      0.828066    0.435866    1.765298    0.762238\n",
       "min      4.300000    2.000000    1.000000    0.100000\n",
       "25%      5.100000    2.800000    1.600000    0.300000\n",
       "50%      5.800000    3.000000    4.350000    1.300000\n",
       "75%      6.400000    3.300000    5.100000    1.800000\n",
       "max      7.900000    4.400000    6.900000    2.500000"
      ]
     },
     "execution_count": 7,
     "metadata": {},
     "output_type": "execute_result"
    }
   ],
   "source": [
    "# describe\n",
    "X.describe()"
   ]
  },
  {
   "cell_type": "code",
   "execution_count": 8,
   "metadata": {},
   "outputs": [
    {
     "data": {
      "text/plain": [
       "0    0\n",
       "1    0\n",
       "2    0\n",
       "3    0\n",
       "dtype: int64"
      ]
     },
     "execution_count": 8,
     "metadata": {},
     "output_type": "execute_result"
    }
   ],
   "source": [
    "# nan\n",
    "X.isnull().sum() "
   ]
  },
  {
   "cell_type": "markdown",
   "metadata": {},
   "source": [
    "欠損値がないので、そのまま分析を進める。"
   ]
  },
  {
   "cell_type": "code",
   "execution_count": 9,
   "metadata": {},
   "outputs": [
    {
     "data": {
      "text/html": [
       "<div>\n",
       "<style scoped>\n",
       "    .dataframe tbody tr th:only-of-type {\n",
       "        vertical-align: middle;\n",
       "    }\n",
       "\n",
       "    .dataframe tbody tr th {\n",
       "        vertical-align: top;\n",
       "    }\n",
       "\n",
       "    .dataframe thead th {\n",
       "        text-align: right;\n",
       "    }\n",
       "</style>\n",
       "<table border=\"1\" class=\"dataframe\">\n",
       "  <thead>\n",
       "    <tr style=\"text-align: right;\">\n",
       "      <th></th>\n",
       "      <th>sepal_length</th>\n",
       "      <th>sepal_width</th>\n",
       "      <th>petal_length</th>\n",
       "      <th>petal_width</th>\n",
       "    </tr>\n",
       "  </thead>\n",
       "  <tbody>\n",
       "    <tr>\n",
       "      <th>0</th>\n",
       "      <td>5.1</td>\n",
       "      <td>3.5</td>\n",
       "      <td>1.4</td>\n",
       "      <td>0.2</td>\n",
       "    </tr>\n",
       "    <tr>\n",
       "      <th>1</th>\n",
       "      <td>4.9</td>\n",
       "      <td>3.0</td>\n",
       "      <td>1.4</td>\n",
       "      <td>0.2</td>\n",
       "    </tr>\n",
       "    <tr>\n",
       "      <th>2</th>\n",
       "      <td>4.7</td>\n",
       "      <td>3.2</td>\n",
       "      <td>1.3</td>\n",
       "      <td>0.2</td>\n",
       "    </tr>\n",
       "    <tr>\n",
       "      <th>3</th>\n",
       "      <td>4.6</td>\n",
       "      <td>3.1</td>\n",
       "      <td>1.5</td>\n",
       "      <td>0.2</td>\n",
       "    </tr>\n",
       "    <tr>\n",
       "      <th>4</th>\n",
       "      <td>5.0</td>\n",
       "      <td>3.6</td>\n",
       "      <td>1.4</td>\n",
       "      <td>0.2</td>\n",
       "    </tr>\n",
       "  </tbody>\n",
       "</table>\n",
       "</div>"
      ],
      "text/plain": [
       "   sepal_length  sepal_width  petal_length  petal_width\n",
       "0           5.1          3.5           1.4          0.2\n",
       "1           4.9          3.0           1.4          0.2\n",
       "2           4.7          3.2           1.3          0.2\n",
       "3           4.6          3.1           1.5          0.2\n",
       "4           5.0          3.6           1.4          0.2"
      ]
     },
     "execution_count": 9,
     "metadata": {},
     "output_type": "execute_result"
    }
   ],
   "source": [
    "# rename the columns\n",
    "columns_dic = {0: 'sepal_length', 1: 'sepal_width', 2: 'petal_length', 3: 'petal_width'}\n",
    "\n",
    "X.rename(columns= columns_dic, inplace=True)\n",
    "X.head()"
   ]
  },
  {
   "cell_type": "code",
   "execution_count": 10,
   "metadata": {},
   "outputs": [
    {
     "data": {
      "text/plain": [
       "2    50\n",
       "1    50\n",
       "0    50\n",
       "Name: Species, dtype: int64"
      ]
     },
     "execution_count": 10,
     "metadata": {},
     "output_type": "execute_result"
    }
   ],
   "source": [
    "# mold the array to dataframe\n",
    "Y = pd.DataFrame(np.array(iris_dataset.target)) \n",
    "\n",
    "# rename a column\n",
    "Y = Y.rename(columns = {0:'Species'})\n",
    "\n",
    "# check the dataset\n",
    "Y['Species'].value_counts()"
   ]
  },
  {
   "cell_type": "code",
   "execution_count": 11,
   "metadata": {},
   "outputs": [
    {
     "data": {
      "text/html": [
       "<div>\n",
       "<style scoped>\n",
       "    .dataframe tbody tr th:only-of-type {\n",
       "        vertical-align: middle;\n",
       "    }\n",
       "\n",
       "    .dataframe tbody tr th {\n",
       "        vertical-align: top;\n",
       "    }\n",
       "\n",
       "    .dataframe thead th {\n",
       "        text-align: right;\n",
       "    }\n",
       "</style>\n",
       "<table border=\"1\" class=\"dataframe\">\n",
       "  <thead>\n",
       "    <tr style=\"text-align: right;\">\n",
       "      <th></th>\n",
       "      <th>sepal_length</th>\n",
       "      <th>sepal_width</th>\n",
       "      <th>petal_length</th>\n",
       "      <th>petal_width</th>\n",
       "      <th>Species</th>\n",
       "    </tr>\n",
       "  </thead>\n",
       "  <tbody>\n",
       "    <tr>\n",
       "      <th>0</th>\n",
       "      <td>5.1</td>\n",
       "      <td>3.5</td>\n",
       "      <td>1.4</td>\n",
       "      <td>0.2</td>\n",
       "      <td>0</td>\n",
       "    </tr>\n",
       "    <tr>\n",
       "      <th>1</th>\n",
       "      <td>4.9</td>\n",
       "      <td>3.0</td>\n",
       "      <td>1.4</td>\n",
       "      <td>0.2</td>\n",
       "      <td>0</td>\n",
       "    </tr>\n",
       "    <tr>\n",
       "      <th>2</th>\n",
       "      <td>4.7</td>\n",
       "      <td>3.2</td>\n",
       "      <td>1.3</td>\n",
       "      <td>0.2</td>\n",
       "      <td>0</td>\n",
       "    </tr>\n",
       "    <tr>\n",
       "      <th>3</th>\n",
       "      <td>4.6</td>\n",
       "      <td>3.1</td>\n",
       "      <td>1.5</td>\n",
       "      <td>0.2</td>\n",
       "      <td>0</td>\n",
       "    </tr>\n",
       "    <tr>\n",
       "      <th>4</th>\n",
       "      <td>5.0</td>\n",
       "      <td>3.6</td>\n",
       "      <td>1.4</td>\n",
       "      <td>0.2</td>\n",
       "      <td>0</td>\n",
       "    </tr>\n",
       "  </tbody>\n",
       "</table>\n",
       "</div>"
      ],
      "text/plain": [
       "   sepal_length  sepal_width  petal_length  petal_width  Species\n",
       "0           5.1          3.5           1.4          0.2        0\n",
       "1           4.9          3.0           1.4          0.2        0\n",
       "2           4.7          3.2           1.3          0.2        0\n",
       "3           4.6          3.1           1.5          0.2        0\n",
       "4           5.0          3.6           1.4          0.2        0"
      ]
     },
     "execution_count": 11,
     "metadata": {},
     "output_type": "execute_result"
    }
   ],
   "source": [
    "# combine features and categorie\n",
    "df_iris = X.join(Y)\n",
    "\n",
    "# check\n",
    "df_iris.head()"
   ]
  },
  {
   "cell_type": "code",
   "execution_count": 12,
   "metadata": {},
   "outputs": [
    {
     "data": {
      "text/plain": [
       "array([0, 1])"
      ]
     },
     "execution_count": 12,
     "metadata": {},
     "output_type": "execute_result"
    }
   ],
   "source": [
    "columns_process = [\"sepal_length\", \"petal_length\", \"Species\"]\n",
    "\n",
    "# generate a dataframe for analyzing iris dataset\n",
    "df_iris_del_index = df_iris[df_iris.Species != 0] # virgicolor and virginica\n",
    "\n",
    "#　analysis about 'versicolor', 'virginica'\n",
    "df_train_test = df_iris_del_index.loc[:, columns_process]\n",
    "df_train_test['Species'] -= 1\n",
    "df_train_test['Species'].unique()"
   ]
  },
  {
   "cell_type": "code",
   "execution_count": 13,
   "metadata": {},
   "outputs": [
    {
     "data": {
      "text/plain": [
       "<seaborn.axisgrid.PairGrid at 0x1a227e0048>"
      ]
     },
     "execution_count": 13,
     "metadata": {},
     "output_type": "execute_result"
    },
    {
     "data": {
      "text/plain": [
       "<Figure size 1080x1080 with 0 Axes>"
      ]
     },
     "metadata": {},
     "output_type": "display_data"
    },
    {
     "data": {
      "image/png": "[encoded data removed]",
      "text/plain": [
       "<Figure size 406.375x360 with 6 Axes>"
      ]
     },
     "metadata": {
      "needs_background": "light"
     },
     "output_type": "display_data"
    }
   ],
   "source": [
    "'''\n",
    "Overview the histgram and plot\n",
    "'''\n",
    "import seaborn as sns\n",
    "import matplotlib.pyplot as plt\n",
    "%matplotlib inline\n",
    "\n",
    "fig = plt.figure(figsize=(15, 15))\n",
    "\n",
    "sns.pairplot(df_train_test, vars=df_train_test.iloc[:,:2].columns, \n",
    "             hue=\"Species\", palette=\"husl\")"
   ]
  },
  {
   "cell_type": "code",
   "execution_count": 14,
   "metadata": {},
   "outputs": [
    {
     "data": {
      "image/png": "[encoded data removed]",
      "text/plain": [
       "<Figure size 432x432 with 2 Axes>"
      ]
     },
     "metadata": {
      "needs_background": "light"
     },
     "output_type": "display_data"
    }
   ],
   "source": [
    "# plot box plot\n",
    "fig = plt.figure(figsize=(6, 6))\n",
    "ax1 = plt.subplot(1,2,1)\n",
    "ax1 = sns.boxplot(x=\"Species\", y=\"sepal_length\", \n",
    "                  data=df_train_test, palette=\"husl\") \n",
    "ax2 = plt.subplot(1,2,2)\n",
    "ax2 = sns.boxplot(x=\"Species\", y=\"petal_length\", \n",
    "                  data=df_train_test, palette=\"husl\")"
   ]
  },
  {
   "cell_type": "code",
   "execution_count": 15,
   "metadata": {},
   "outputs": [],
   "source": [
    "# individual variable and non-dividual variable\n",
    "X = df_train_test.iloc[:, :-1].values # by number/ values --> serries\n",
    "y = df_train_test.loc[:, \"Species\"].values # by column's name\n",
    "\n",
    "# for spliting train and test\n",
    "(X_train, X_test, y_train, y_test) = train_test_split(X, y, test_size = 0.3)"
   ]
  },
  {
   "cell_type": "markdown",
   "metadata": {},
   "source": [
    "###### 【仮説】\n",
    "予測モデルは、\"petal_length\"が5cm前後で、'versicolor', 'virginica'が分類される。\n",
    "<br>\"sepal_lenth\"では、6.3cm前後で分類できるように見えるが、\"petal_length\"に比べ、信頼区間の精度は劣るのではないか。"
   ]
  },
  {
   "cell_type": "markdown",
   "metadata": {},
   "source": [
    "###### 【検証方法】\n",
    "決定木分析を用い、適切なパラメータを求め、二種分類の式を作成する。"
   ]
  },
  {
   "cell_type": "markdown",
   "metadata": {},
   "source": [
    "## スクラッチによる実装"
   ]
  },
  {
   "cell_type": "markdown",
   "metadata": {},
   "source": [
    "### 【問題1】ジニ不純度を求める関数\n",
    "まずは空間を分割するための指標値、ジニ不純度を計算する関数を作成してください。ノード\n",
    "tに対するジニ不純度I(t) は以下の数式で求まります。\n",
    "$$\n",
    "I(t) = 1-\\sum_{i=1}^{K}P^2(C_i|t) = 1-\\sum_{i=1}^{K}(\\frac{N_{t,i}}{N_{t,all}})^{2}\n",
    "$$\n",
    "<br>\n",
    "<br>t: ノードのインデックス\n",
    "<br>i: クラスのインデックス\n",
    "<br>K: クラスの数\n",
    "<br>Ci: i番目のクラス\n",
    "<br>P(Ci|t):t番目のノードにおける\n",
    "<br>Ciの割合\n",
    "<br>Nt,i: t番目のノードのi番目のクラスに属するサンプル数\n",
    "<br>Nt,all: t番目のノードのサンプルの総数\n",
    "<br>まずは簡単な例を作り、手計算と関数の結果を比較してください。\n",
    "<br>\n",
    "<br>例\n",
    "<br>クラス1:サンプル数15, クラス2:サンプル数15 → ジニ不純度0.500\n",
    "<br>クラス1:サンプル数15, クラス2:サンプル数15, クラス3:サンプル数15 → ジニ不純度0.667\n",
    "<br>クラス1:サンプル数18, クラス2:サンプル数12 → ジニ不純度0.480\n",
    "<br>クラス1:サンプル数30, クラス2:サンプル数0 → ジニ不純度0.000"
   ]
  },
  {
   "cell_type": "code",
   "execution_count": 38,
   "metadata": {
    "scrolled": true
   },
   "outputs": [],
   "source": [
    "# import numpy\n",
    "import numpy as np\n",
    "\n",
    "def gini_impurity(X, y, column, value):\n",
    "    '''\n",
    "    Compute gini impurity\n",
    "    \n",
    "    Parameters\n",
    "    ----------\n",
    "    X : features  \n",
    "    y : traget\n",
    "    column : the number of columns\n",
    "    value : threshold\n",
    "\n",
    "    Attributes\n",
    "    ----------\n",
    "    gini : gini impurity\n",
    "    sample_num : number of parent nodes\n",
    "    score : squere of (count of child node / number of parent node)\n",
    "    '''\n",
    "    gini = 0\n",
    "    sample_num = len(y)\n",
    "    \n",
    "    div_y = [y[X[:, column] >= value], y[X[:, column] < value]] # search\n",
    "#     print(div_y[0]) # the target group more than value; [0, 1 , 1, ........]\n",
    "    \n",
    "    for grp in div_y:\n",
    "        score = 0\n",
    "        classes = np.unique(grp) # search\n",
    "        for cls in classes:\n",
    "            ip = np.sum(grp == cls)/len(grp) # search\n",
    "            score += ip * ip\n",
    "        gini += (1- score) * (len(grp)/sample_num) #  actually gini * 　coefficient\n",
    "    return gini"
   ]
  },
  {
   "cell_type": "markdown",
   "metadata": {},
   "source": [
    "### 【問題2】情報利得を求める関数\n",
    "<br>次に、情報利得を計算する関数を作成してください。先ほど作成したジニ不純度 \n",
    "<br>I(t)を計算する関数を呼び出して使います。情報利得IGは以下の数式で求まります。\n",
    "<br>\n",
    "<br>\n",
    "$$\n",
    "IG(p) = I(p)-\\frac{N_{left,all}}{N_{p,all}}I(left)-\\frac{N_{right,all}}{N_{p,all}}I(right)\n",
    "$$\n",
    "<br>\n",
    "<br>p: 親ノードを示すインデックス\n",
    "<br>left: 左側のノードを示すインデックス\n",
    "<br>right : 右側のノードを示すインデックス\n",
    "<br>\n",
    "<br>まずは簡単な例を作り、手計算と関数の結果を比較してください。\n",
    "<br>\n",
    "<br>例\n",
    "<br>左ノードクラス1:サンプル数10, 左ノードクラス2:サンプル数30, 右ノードクラス1:サンプル数20, 右ノードクラス2:サンプル数5 → 情報利得0.128\n",
    "<br>この他にもいくつか試してください。"
   ]
  },
  {
   "cell_type": "code",
   "execution_count": 43,
   "metadata": {},
   "outputs": [],
   "source": [
    "def information_gain(X, y):\n",
    "    '''\n",
    "    Compute information gain\n",
    "    \n",
    "    Parameters\n",
    "    ----------\n",
    "    X : features  \n",
    "    y : traget\n",
    "\n",
    "    Attributes\n",
    "    ----------\n",
    "    gini : gini impurity\n",
    "    \n",
    "    '''\n",
    "    gini = None\n",
    "    gini_min = 1 # max==1\n",
    "    columns = X.shape[1]\n",
    "    best_column = None\n",
    "    best_thrs = None # values\n",
    "\n",
    "    for column in range(columns):\n",
    "        values = X[:, column] # output val\n",
    "        for val in values:\n",
    "            gini = gini_impurity(X, y, column, val)\n",
    "            if gini_min > gini:\n",
    "                gini_min = gini #update\n",
    "                best_thrs = val # update\n",
    "                best_column = column #update\n",
    "    return gini_min, best_thrs, best_column     "
   ]
  },
  {
   "cell_type": "code",
   "execution_count": 44,
   "metadata": {
    "scrolled": true
   },
   "outputs": [
    {
     "data": {
      "text/plain": [
       "(0.15561015561015556, 4.9, 1)"
      ]
     },
     "execution_count": 44,
     "metadata": {},
     "output_type": "execute_result"
    }
   ],
   "source": [
    "information_gain(X_train, y_train)"
   ]
  },
  {
   "cell_type": "markdown",
   "metadata": {},
   "source": [
    "### 【問題3】深さ1の決定木分類器クラスの作成\n",
    "深さが1の決定機分類器のクラスを作成し、Sprint2で作成した分類のパイプラインに組み込んでください。\n",
    "<br>クラスの基本構造はSprint3の線形回帰を参考にし、名前はScratchDecesionTreeClassifierとしてください。\n",
    "<br>メソッドやパラメータなどはscikit-learnを参考にしてください。\n",
    "<br>\n",
    "<br>sklearn.tree.DecisionTreeClassifier — scikit-learn 0.20.2 documentation\n",
    "<br>\n",
    "<br>検証段階ではJupyter Notebook上で書いていき、最終的にはpyファイルにモジュールとしてまとめてください。\n",
    "<br>深さ1とは空間の分割を1回だけ行うことを指します。\n",
    "<br>\n",
    "<br>・決定木のアルゴリズム\n",
    "<br>ある特徴量の軸に対して、全てのパターンのしきい値を考え、それぞれの情報利得を計算していきます。各点の値をしきい値にする方法が一般的です。\n",
    "（ただし、実際にはしきい値の数は点の数よりひとつ少なくて良いことになります）分割の全候補の中で最も情報利得が大きくなるものをそのノードの分割方法として採用します。\n",
    "<br>ジニ不純度が0になるノード、または指定された深さのノードは葉と呼ばれます。葉にはそれぞれ推定時にどのクラスに分類するかを記録しておきます。\n",
    "<br>ジニ不純度が0でない場合は、多数決により分類するクラスを決定します。\n",
    "ヒント\n",
    "<br>これまでのスクラッチ課題に比べてアルゴリズムが複雑です。コードを書く前に、フローチャートなどで整理するようにしましょう。"
   ]
  },
  {
   "cell_type": "code",
   "execution_count": 83,
   "metadata": {},
   "outputs": [
    {
     "name": "stdout",
     "output_type": "stream",
     "text": [
      "3\n",
      "2\n"
     ]
    }
   ],
   "source": [
    "hoge = [1, 1, 3, 3, 3, 3, 3, 0, 0 ,0]\n",
    "print(np.argmax(np.bincount(hoge)))\n",
    "print(np.argmax(hoge))"
   ]
  },
  {
   "cell_type": "code",
   "execution_count": 153,
   "metadata": {},
   "outputs": [],
   "source": [
    "class ScratchDecisionTreeDecide():\n",
    "    def __init__(self, X, y, max_depth):\n",
    "        self.X = X\n",
    "        self.y = y\n",
    "        self.left = None\n",
    "        self.right = None\n",
    "        self.max_depth = max_depth\n",
    "        self.depth = None\n",
    "        self.value = None\n",
    "        self.column = None\n",
    "        self.gini_min = None\n",
    "        self.label = np.argmax(np.bincount(y)) # search\n",
    "        \n",
    "    def divide_class(self, depth):\n",
    "        self.depth = depth\n",
    "        self.gini_min, self.value, self.column = information_gain(self.X, self.y) # information gain\n",
    "        print('Tree Depth: {}, Divided Feature: {},Threshold: {}, Label: {}'.format(self.depth, self.column, self.value, self.label)) # output\n",
    "        \n",
    "        # search\n",
    "        if self.depth == self.max_depth or self.gini_min == 0:\n",
    "            \n",
    "            return       \n",
    "        \n",
    "        idx_left = self.X[:, self.column] >= self.value\n",
    "        idx_right = self.X[:, self.column] < self.value\n",
    "        \n",
    "        self.left = ScratchDecisionTreeDecide(self.X[idx_left],  self.y[idx_left], self.max_depth)\n",
    "        self.right = ScratchDecisionTreeDecide(self.X[idx_right], self.y[idx_right], self.max_depth)\n",
    "        self.left.divide_class(self.depth +1)\n",
    "        self.right.divide_class(self.depth +1)\n",
    "        \n",
    "    def predict(self, X):\n",
    "        if self.gini_min == 0.0 or self.depth == self.max_depth:\n",
    "            return self.label\n",
    "        else:\n",
    "            if X[self.column] > self.value:\n",
    "                return self.left.predict(X)\n",
    "            else:\n",
    "                return self.right.predict(X)"
   ]
  },
  {
   "cell_type": "code",
   "execution_count": 154,
   "metadata": {},
   "outputs": [],
   "source": [
    "class ScratchDecesionTreeClassifier():\n",
    "    def __init__(self, max_depth):\n",
    "        self.max_depth = max_depth\n",
    "        self.tree = None\n",
    "        \n",
    "    def fit(self, X, y):\n",
    "        init_depth = 0\n",
    "        self.tree = ScratchDecisionTreeDecide(X, y, self.max_depth)\n",
    "        self.tree.divide_class(init_depth)\n",
    "        \n",
    "    def predict(self, X):\n",
    "        pred = []\n",
    "        for num in X:\n",
    "            pred.append(self.tree.predict(num))\n",
    "        return np.array(pred)"
   ]
  },
  {
   "cell_type": "code",
   "execution_count": 155,
   "metadata": {},
   "outputs": [
    {
     "name": "stdout",
     "output_type": "stream",
     "text": [
      "Tree Depth: 0, Divided Feature: 1,Threshold: 4.9, Label: 0\n",
      "Tree Depth: 1, Divided Feature: 1,Threshold: 5.1, Label: 1\n",
      "Tree Depth: 2, Divided Feature: 0,Threshold: 6.1, Label: 1\n",
      "Tree Depth: 3, Divided Feature: 0,Threshold: 7.3, Label: 1\n",
      "Tree Depth: 3, Divided Feature: 0,Threshold: 6.0, Label: 1\n",
      "Tree Depth: 2, Divided Feature: 0,Threshold: 6.7, Label: 1\n",
      "Tree Depth: 3, Divided Feature: 0,Threshold: 6.7, Label: 0\n",
      "Tree Depth: 3, Divided Feature: 0,Threshold: 6.3, Label: 1\n",
      "Tree Depth: 1, Divided Feature: 0,Threshold: 5.0, Label: 0\n",
      "Tree Depth: 2, Divided Feature: 1,Threshold: 4.8, Label: 0\n",
      "Tree Depth: 3, Divided Feature: 0,Threshold: 6.8, Label: 0\n",
      "Tree Depth: 3, Divided Feature: 0,Threshold: 5.0, Label: 0\n",
      "Tree Depth: 2, Divided Feature: 1,Threshold: 4.5, Label: 0\n"
     ]
    }
   ],
   "source": [
    "clf = ScratchDecesionTreeClassifier(max_depth=3)\n",
    "clf.fit(X_train, y_train)\n",
    "y_pred = clf.predict(X_test)"
   ]
  },
  {
   "cell_type": "markdown",
   "metadata": {},
   "source": [
    "### 【問題4】（アドバンス課題）深さ2の決定木分類器クラスの作成\n",
    "問題3で作成したクラスを発展させ、深さが2の決定木分類器のクラスを作成してください。\n",
    "深さ2とは空間の分割を2回行うことを指します。\n",
    "ヒント\n",
    "各ノードをインスタンスとして扱うと、任意の深さへの拡張が行いやすくなります。"
   ]
  },
  {
   "cell_type": "markdown",
   "metadata": {},
   "source": [
    "### 【問題5】（アドバンス課題）任意の深さに対応できる決定木分類器クラスの作成\n",
    "問題3,4で作成したクラスを発展させ、任意の深さに対応できる決定木分類器のクラスを作成してください。深さを特定の値で指定せず、全ての葉がジニ不純度0となるまで続けられるようにしてください。"
   ]
  },
  {
   "cell_type": "markdown",
   "metadata": {},
   "source": [
    "## 検証"
   ]
  },
  {
   "cell_type": "markdown",
   "metadata": {},
   "source": [
    "### 【問題6】指標値の算出\n",
    "分類に関する指標値で精度を確認してください。"
   ]
  },
  {
   "cell_type": "code",
   "execution_count": 156,
   "metadata": {},
   "outputs": [],
   "source": [
    "import pandas as pd\n",
    "\n",
    "from sklearn.metrics import accuracy_score\n",
    "from sklearn.metrics import recall_score\n",
    "from sklearn.metrics import precision_score\n",
    "from sklearn.metrics import f1_score\n",
    "\n",
    "\n",
    "\"\"\"\n",
    "\n",
    "get scores: accuracy, pecision, recall, F measure\n",
    "\n",
    "\"\"\"\n",
    "def get_scores(y_test, y_pred):\n",
    "    scores_array = np.hstack((accuracy_score(y_test, y_pred), \n",
    "                             precision_score(y_test, y_pred),\n",
    "                             recall_score(y_test, y_pred),\n",
    "                             f1_score(y_test, y_pred)))\n",
    "    return scores_array\n",
    "    \n",
    "# scores = get_scores(y_test, y_pred)\n",
    "# index_score = [ \"accuracy\",\"precision\",\"recall\",\"f1\"]\n",
    "# scores = pd.DataFrame(scores, index=index_score, columns={'iris_data':0})\n",
    "# scores"
   ]
  },
  {
   "cell_type": "code",
   "execution_count": 157,
   "metadata": {},
   "outputs": [
    {
     "data": {
      "text/plain": [
       "array([0.93333333, 1.        , 0.86666667, 0.92857143])"
      ]
     },
     "execution_count": 157,
     "metadata": {},
     "output_type": "execute_result"
    }
   ],
   "source": [
    "get_scores(y_test, y_pred)"
   ]
  },
  {
   "cell_type": "markdown",
   "metadata": {},
   "source": [
    "### 【問題7】決定領域の可視化\n",
    "2値分類のデータセットに対して決定領域を可視化してください。"
   ]
  },
  {
   "cell_type": "code",
   "execution_count": 158,
   "metadata": {},
   "outputs": [],
   "source": [
    "import matplotlib.pyplot as plt\n",
    "from matplotlib.colors import ListedColormap\n",
    "import matplotlib.patches as mpatches\n",
    "\n",
    "def decision_region(X_train, y_train, model, step=0.01, title='decision region', xlabel='xlabel', ylabel='ylabel', target_names=['versicolor', 'virginica']):\n",
    "    \"\"\"\n",
    "    Draw the decision area of the model learned by binary classification with two dimensional \n",
    "    feature quantity.\n",
    "     The color of the background is drawn from the estimated value by the learned model.\n",
    "     The point of the scatter diagram is learning data.\n",
    "\n",
    "     Parameters\n",
    "     ------------------\n",
    "     X_train: ndarray, shape (n_samples, 2)\n",
    "         Characteristic quantity of learning data\n",
    "     y_train: ndarray, shape (n_samples,)\n",
    "         Correct value of learning data\n",
    "     model: object\n",
    "         **** Insert Instantus of the learned model\n",
    "     step: float, (default: 0.1)\n",
    "         Set interval to calculate estimated value\n",
    "     title: str\n",
    "         Give the text of the title of the graph\n",
    "     xlabel, ylabel: str\n",
    "         Give sentences of axis labels\n",
    "     target_names =: list of str\n",
    "         Give a list of legends\n",
    "    \"\"\"\n",
    "    # define Initial setting \n",
    "    fig, ax = plt.subplots(figsize=(6, 6))\n",
    "    fig.patch.set_facecolor('skyblue')\n",
    "    fig.patch.set_alpha(1)\n",
    "    ax.patch.set_facecolor('white')\n",
    "    ax.patch.set_alpha(1)\n",
    "    # ax.set_yscale('log') \n",
    "    plt.grid()\n",
    "    \n",
    "    # setting\n",
    "    scatter_color = ['red', 'green']\n",
    "    contourf_color = ['pink', 'skyblue']\n",
    "    n_class = 2\n",
    "\n",
    "    # pred\n",
    "    mesh_f0, mesh_f1  = np.meshgrid(np.arange(np.min(X_train[:,0])-0.5, np.max(X_train[:,0])+0.5, step), np.arange(np.min(X_train[:,1])-0.5, np.max(X_train[:,1])+0.5, step))\n",
    "    mesh = np.c_[np.ravel(mesh_f0),np.ravel(mesh_f1)]\n",
    "    pred = model.predict(mesh).reshape(mesh_f0.shape)\n",
    "\n",
    "    # plot setting title\n",
    "    plt.title(title)\n",
    "    plt.xlabel(xlabel)\n",
    "    plt.ylabel(ylabel)\n",
    "    \n",
    "    plt.contour(mesh_f0, mesh_f1, pred, n_class-1, colors='g', linewidths=5, alpha=0.5)\n",
    "    \n",
    "    for i, target in enumerate(set(y_train)):\n",
    "        plt.scatter(X_train[y_train==target][:, 0], X_train[y_train==target][:, 1], s=150, color=scatter_color[i], label=target_names[i], \n",
    "                    marker='x', alpha=0.7)\n",
    "    patches = [mpatches.Patch(color=scatter_color[i], label=target_names[i]) for i in range(n_class)]\n",
    "    plt.legend(handles=patches)\n",
    "    plt.legend()\n",
    "    plt.show()"
   ]
  },
  {
   "cell_type": "code",
   "execution_count": 160,
   "metadata": {
    "scrolled": true
   },
   "outputs": [
    {
     "data": {
      "image/png": "[encoded data removed]",
      "text/plain": [
       "<Figure size 432x432 with 1 Axes>"
      ]
     },
     "metadata": {},
     "output_type": "display_data"
    }
   ],
   "source": [
    "decision_region(X_train, y_train, clf, xlabel='sepal_length', ylabel='petal_length')"
   ]
  },
  {
   "cell_type": "markdown",
   "metadata": {},
   "source": [
    "#### 考察\n",
    "仮説では\"petal_length\"が5cm前後で、'versicolor', 'virginica'が分類され、\"sepal_lenth\"は、6.3cm前後で分類できるように見えるが、\"petal_length\"に比べ、信頼区間の精度は劣るのではないかと考えた。\n",
    "<br>\n",
    "<br> テストデータの予測の結果を見ると、\"petal_length\"が5.0(cm)前後で線が引かれ、\"sepal_lenth\"が6.7(cm)前後で線が引かれていることがわかる。\n",
    "<br>\n",
    "<br>以上から考えると、仮説は非常に予測結果に近かったと言える。"
   ]
  },
  {
   "cell_type": "markdown",
   "metadata": {},
   "source": [
    "## ディスカッション"
   ]
  },
  {
   "cell_type": "markdown",
   "metadata": {},
   "source": [
    "### 【問題8】決定木の利用場面\n",
    "<br>最終発表時に以下の内容についてディスカッションを行います。\n",
    "<br>自分なりの意見を用意しておいてください。\n",
    "<br>決定木が他の手法に比べて有効だと考えられるのはどういった場面か\n",
    "<br>\n",
    "<br>注意点\n",
    "<br>答えがある問いではありません。いろいろな視点から見て理解を深めていきましょう。"
   ]
  },
  {
   "cell_type": "markdown",
   "metadata": {},
   "source": [
    "・クライエントへのプレゼンテーションの際、一番初めに説明するシンプルなモデル\n",
    "<br>・決定木（回帰木）→重回帰分析→　SVMなどのモデルの順番で説明すると統計の知識がない人はわかりやすい。\n",
    "<br>・推論過程が人間の仮説に近くなるため、他人に説明がしやすい。"
   ]
  }
 ],
 "metadata": {
  "kernelspec": {
   "display_name": "Python 3",
   "language": "python",
   "name": "python3"
  },
  "language_info": {
   "codemirror_mode": {
    "name": "ipython",
    "version": 3
   },
   "file_extension": ".py",
   "mimetype": "text/x-python",
   "name": "python",
   "nbconvert_exporter": "python",
   "pygments_lexer": "ipython3",
   "version": "3.6.8"
  },
  "toc": {
   "base_numbering": 1,
   "nav_menu": {},
   "number_sections": true,
   "sideBar": true,
   "skip_h1_title": false,
   "title_cell": "Table of Contents",
   "title_sidebar": "Contents",
   "toc_cell": false,
   "toc_position": {},
   "toc_section_display": true,
   "toc_window_display": true
  }
 },
 "nbformat": 4,
 "nbformat_minor": 2
}
