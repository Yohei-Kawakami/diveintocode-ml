{
 "cells": [
  {
   "cell_type": "markdown",
   "metadata": {},
   "source": [
    "## スクラッチによるサポートベクターマシンの実装"
   ]
  },
  {
   "cell_type": "markdown",
   "metadata": {},
   "source": [
    "### 【問題1】SVM分類器のクラスを作成する"
   ]
  },
  {
   "cell_type": "markdown",
   "metadata": {},
   "source": [
    "scikit-learnの実装はソフトマージンSVMになっています。\n",
    "<br>ハードマージンSVMを再現するには、パラメータCをC=1e10のように非常に大きな値を設定します。\n",
    "<br>（無限大に向けてCを大きくするほどハードマージンSVMに近づきます）\n",
    "<br>\n",
    "<br>また、線形カーネルをscikit-learnで使う場合はkernel=\"linear\"と指定します。\n",
    "<br>デフォルトではkernel=\"rbf\"になっており、多項式カーネルと呼ばれるものになっています。"
   ]
  },
  {
   "cell_type": "code",
   "execution_count": 1,
   "metadata": {},
   "outputs": [],
   "source": [
    "import numpy as np\n",
    "import math\n",
    "from sklearn.metrics import accuracy_score\n",
    "import copy \n",
    "import matplotlib.pyplot as plt\n",
    "%matplotlib inline\n",
    "\n",
    "class ScratchSVMClassifier():\n",
    "    \"\"\"\n",
    "    SVM分類のスクラッチ実装\n",
    "\n",
    "    Parameters\n",
    "    ----------\n",
    "    num_iter : int\n",
    "      イテレーション数\n",
    "    lr : float\n",
    "      学習率\n",
    "    lambda : float\n",
    "      正則化パラメーター\n",
    "\n",
    "    Attributes\n",
    "    ----------\n",
    "    self.coef_ : 次の形のndarray, shape (n_features,1)\n",
    "      パラメータ\n",
    "    \"\"\"\n",
    "\n",
    "    def __init__(self, num_iter=10000, lr=0.000000005, threshold=0.1**5):\n",
    "        # ハイパーパラメータを属性として記録\n",
    "        self.iter = num_iter\n",
    "        self.lr = lr\n",
    "        self.lam = 0\n",
    "        self.lam_X = 0\n",
    "        self.lam_y = 0\n",
    "        self.theta = 0\n",
    "        self.threshold = threshold\n",
    "    \n",
    "    def fit(self, X, y):\n",
    "        \n",
    "        #ラベル０をマイナス１に変換\n",
    "        y[y==0] = -1 \n",
    "        #リシェイプ\n",
    "        y = y.reshape(len(y), 1)\n",
    "        #ラムダの更新\n",
    "        self._compute_lambda(X, y)\n",
    "        \n",
    "    def predict(self, X):\n",
    "        pred = np.dot(self._kernel_linear(X, self.lam_X.T), self.lam * self.lam_y)\n",
    "        print(pred)\n",
    "        pred = (pred >= 0).astype(int)\n",
    "        return pred\n",
    "    \n",
    "    def _compute_lambda(self, X, y):\n",
    "        # lambdaの初期化\n",
    "        #lam = np.random.rand(len(X), 1)\n",
    "        lam = np.ones(len(X)).reshape(len(X), 1)\n",
    "        lam = lam *-10 \n",
    "        \n",
    "        for num in range(self.iter):\n",
    "            lam = lam + self.lr * (1 - np.dot(np.dot(y, y.T) * self._kernel_linear(X, X.T), lam))\n",
    "            lam = np.where(lam < 0, 0, lam)  \n",
    "            \n",
    "            if sum((lam > self.threshold).astype(int)) >= 2:\n",
    "                print(\"ラムダ更新回数\")\n",
    "                print(num)\n",
    "                break\n",
    "        \n",
    "        #閾値以上のサポートベクトルを抜き出す\n",
    "        self.lam = lam[np.any(lam > self.threshold, axis=1), :]\n",
    "        self.lam_X = X[np.any(lam > self.threshold, axis=1), :]\n",
    "        self.lam_y = y[np.any(lam > self.threshold, axis=1), :]\n",
    "        #thetaの計算n*1のベクトル\n",
    "        self.theta = np.dot(self.lam_X.T, self.lam * self.lam_y)\n",
    "        if len(self.lam) == 0:\n",
    "            print(\"Error：can not find any support vectors\")\n",
    "        \n",
    "    def _kernel_linear(self, x1, x2):\n",
    "        \n",
    "        return np.dot(x1, x2)\n",
    "\n",
    "    def accuracy(self, y_test, y_pred):\n",
    "        #accuracyを計算して返す\n",
    "        return accuracy_score(y_test, y_pred)"
   ]
  },
  {
   "cell_type": "code",
   "execution_count": 2,
   "metadata": {},
   "outputs": [],
   "source": [
    "#シンプルデータセット１\n",
    "from sklearn.model_selection import train_test_split\n",
    "\n",
    "np.random.seed(seed=0)\n",
    "n_samples = 500\n",
    "f0= [-1, 2]\n",
    "f1 = [2, -1]\n",
    "cov = [[1.0,0.8], [0.8, 1.0]]\n",
    "\n",
    "f0 = np.random.multivariate_normal(f0, cov, int(n_samples/2))\n",
    "f1 = np.random.multivariate_normal(f1, cov, int(n_samples/2))\n",
    "\n",
    "X = np.concatenate((f0, f1))\n",
    "y = np.concatenate((np.ones((int(n_samples/2))), np.ones((int(n_samples/2))) *(-1))).astype(np.int)\n",
    "\n",
    "random_index = np.random.permutation(np.arange(n_samples))\n",
    "X = X[random_index]\n",
    "y = y[random_index]\n",
    "\n",
    "y = np.where(y == -1, 0, y)\n",
    "from sklearn.preprocessing import StandardScaler\n",
    "sc = StandardScaler()\n",
    "sc.fit(X)\n",
    "X = sc.transform(X)\n",
    "X_train, X_test, y_train, y_test = train_test_split(X, y, test_size=0.3, random_state=40)"
   ]
  },
  {
   "cell_type": "code",
   "execution_count": 3,
   "metadata": {},
   "outputs": [],
   "source": [
    "model = ScratchSVMClassifier()"
   ]
  },
  {
   "cell_type": "markdown",
   "metadata": {},
   "source": [
    "### 【問題5】時間の計測"
   ]
  },
  {
   "cell_type": "code",
   "execution_count": 4,
   "metadata": {},
   "outputs": [
    {
     "name": "stdout",
     "output_type": "stream",
     "text": [
      "CPU times: user 2 µs, sys: 0 ns, total: 2 µs\n",
      "Wall time: 6.2 µs\n",
      "ラムダ更新回数\n",
      "2003\n"
     ]
    }
   ],
   "source": [
    "%time\n",
    "model.fit(X_train, y_train)"
   ]
  },
  {
   "cell_type": "code",
   "execution_count": 19,
   "metadata": {},
   "outputs": [
    {
     "data": {
      "text/plain": [
       "(14, 2)"
      ]
     },
     "execution_count": 19,
     "metadata": {},
     "output_type": "execute_result"
    }
   ],
   "source": [
    "model.lam_X"
   ]
  },
  {
   "cell_type": "code",
   "execution_count": 6,
   "metadata": {},
   "outputs": [
    {
     "data": {
      "text/plain": [
       "(14, 2)"
      ]
     },
     "execution_count": 6,
     "metadata": {},
     "output_type": "execute_result"
    }
   ],
   "source": [
    "model.lam_X.shape"
   ]
  },
  {
   "cell_type": "code",
   "execution_count": 7,
   "metadata": {},
   "outputs": [
    {
     "name": "stdout",
     "output_type": "stream",
     "text": [
      "[[-1.33988844e-04]\n",
      " [-1.05232510e-04]\n",
      " [-9.92622142e-05]\n",
      " [ 1.02763111e-04]\n",
      " [-9.11918696e-05]\n",
      " [ 1.08617342e-04]\n",
      " [ 1.01161037e-04]\n",
      " [-5.88487052e-05]\n",
      " [ 1.39238081e-04]\n",
      " [ 1.33047252e-04]\n",
      " [-7.47115894e-05]\n",
      " [ 9.80315720e-05]\n",
      " [ 8.18235527e-05]\n",
      " [ 8.59709139e-05]\n",
      " [-1.36011819e-04]\n",
      " [ 1.35146656e-04]\n",
      " [-8.81025000e-05]\n",
      " [ 1.01821740e-04]\n",
      " [ 7.52338601e-05]\n",
      " [ 9.88734120e-05]\n",
      " [ 9.13093151e-05]\n",
      " [-1.05530952e-04]\n",
      " [ 1.11987771e-04]\n",
      " [ 1.32710872e-04]\n",
      " [-8.47317270e-05]\n",
      " [-9.64148413e-05]\n",
      " [-9.29354150e-05]\n",
      " [-7.35270610e-05]\n",
      " [ 1.19206423e-04]\n",
      " [ 1.04477318e-04]\n",
      " [-1.03101089e-04]\n",
      " [-1.21450495e-04]\n",
      " [-8.64818390e-05]\n",
      " [ 1.04873742e-04]\n",
      " [ 5.23684706e-05]\n",
      " [ 8.55536099e-05]\n",
      " [-1.20750141e-04]\n",
      " [ 8.25497853e-05]\n",
      " [ 1.11291891e-04]\n",
      " [-9.18357080e-05]\n",
      " [ 9.35212370e-05]\n",
      " [ 1.25639996e-04]\n",
      " [ 6.69342015e-05]\n",
      " [ 1.55981588e-04]\n",
      " [ 9.23602932e-05]\n",
      " [-1.35160822e-04]\n",
      " [ 1.10012656e-04]\n",
      " [ 1.28204322e-04]\n",
      " [ 1.46206971e-04]\n",
      " [ 9.13300451e-05]\n",
      " [ 1.28365860e-04]\n",
      " [-9.60913480e-05]\n",
      " [-1.19757008e-04]\n",
      " [-8.16175742e-05]\n",
      " [-8.21147977e-05]\n",
      " [-8.76632233e-05]\n",
      " [-8.39322751e-05]\n",
      " [-8.98277086e-05]\n",
      " [ 9.25290942e-05]\n",
      " [-7.30763188e-05]\n",
      " [ 1.08831258e-04]\n",
      " [ 1.00689893e-04]\n",
      " [-1.31262210e-04]\n",
      " [ 9.48563932e-05]\n",
      " [-7.33317056e-05]\n",
      " [ 1.23758986e-04]\n",
      " [ 9.30502530e-05]\n",
      " [ 1.03552799e-04]\n",
      " [ 1.28056417e-04]\n",
      " [-8.10690702e-05]\n",
      " [ 1.05885276e-04]\n",
      " [ 1.06239248e-04]\n",
      " [-6.67078002e-05]\n",
      " [-1.27354618e-04]\n",
      " [-1.28204346e-04]\n",
      " [-1.06392471e-04]\n",
      " [-7.05802063e-05]\n",
      " [-8.65317016e-05]\n",
      " [-8.63396458e-05]\n",
      " [ 1.09804587e-04]\n",
      " [-8.77605787e-05]\n",
      " [-9.57887912e-05]\n",
      " [-1.19006169e-04]\n",
      " [ 6.22920014e-05]\n",
      " [ 1.03424055e-04]\n",
      " [ 1.04366893e-04]\n",
      " [ 1.14248335e-04]\n",
      " [ 1.21605496e-04]\n",
      " [-9.30087928e-05]\n",
      " [ 9.14671512e-05]\n",
      " [-1.15729553e-04]\n",
      " [-9.36530283e-05]\n",
      " [-9.11350431e-05]\n",
      " [-1.07880356e-04]\n",
      " [ 1.35955692e-04]\n",
      " [ 1.16855276e-04]\n",
      " [ 1.31358933e-04]\n",
      " [ 1.41785155e-04]\n",
      " [ 1.17477359e-04]\n",
      " [-1.20566721e-04]\n",
      " [-1.05899684e-04]\n",
      " [-1.07190871e-04]\n",
      " [ 7.82060870e-05]\n",
      " [-1.13870418e-04]\n",
      " [-1.03427927e-04]\n",
      " [ 7.36653289e-05]\n",
      " [-9.79820930e-05]\n",
      " [ 1.25414381e-04]\n",
      " [-8.96243252e-05]\n",
      " [-8.01964157e-05]\n",
      " [-1.00327691e-04]\n",
      " [ 1.08671739e-04]\n",
      " [-6.96253630e-05]\n",
      " [ 4.92566604e-05]\n",
      " [-1.17581536e-04]\n",
      " [-1.03503909e-04]\n",
      " [ 9.98200783e-05]\n",
      " [ 1.12590481e-04]\n",
      " [ 1.42219626e-04]\n",
      " [ 5.67506675e-05]\n",
      " [ 8.28100160e-05]\n",
      " [ 7.46787405e-05]\n",
      " [-9.63699085e-05]\n",
      " [-1.27410960e-04]\n",
      " [ 1.59562431e-04]\n",
      " [ 8.91266353e-05]\n",
      " [-1.20590802e-04]\n",
      " [-1.28349869e-04]\n",
      " [ 1.12955786e-04]\n",
      " [ 9.03262375e-05]\n",
      " [-5.75548890e-05]\n",
      " [ 1.15296420e-04]\n",
      " [ 9.86796675e-05]\n",
      " [ 1.05520572e-04]\n",
      " [-1.17932463e-04]\n",
      " [-7.62819779e-05]\n",
      " [-1.21953296e-04]\n",
      " [-1.19640297e-04]\n",
      " [ 1.25034117e-04]\n",
      " [-9.86632776e-05]\n",
      " [-7.96426209e-05]\n",
      " [-7.10117388e-05]\n",
      " [ 9.59247407e-05]\n",
      " [-8.24795625e-05]\n",
      " [-1.22141775e-04]\n",
      " [ 1.50387489e-04]\n",
      " [-6.55060989e-05]\n",
      " [-6.32815389e-05]\n",
      " [ 1.48201560e-04]\n",
      " [ 1.36748307e-04]]\n"
     ]
    },
    {
     "data": {
      "text/plain": [
       "(150, 1)"
      ]
     },
     "execution_count": 7,
     "metadata": {},
     "output_type": "execute_result"
    }
   ],
   "source": [
    "y_pred = model.predict(X_test)\n",
    "y_pred.shape"
   ]
  },
  {
   "cell_type": "markdown",
   "metadata": {},
   "source": [
    "## 検証"
   ]
  },
  {
   "cell_type": "markdown",
   "metadata": {},
   "source": [
    "### 【問題3】指標値の算出"
   ]
  },
  {
   "cell_type": "code",
   "execution_count": 8,
   "metadata": {},
   "outputs": [
    {
     "data": {
      "text/plain": [
       "1.0"
      ]
     },
     "execution_count": 8,
     "metadata": {},
     "output_type": "execute_result"
    }
   ],
   "source": [
    "#accuracyの算出\n",
    "model.accuracy(y_test, y_pred)"
   ]
  },
  {
   "cell_type": "markdown",
   "metadata": {},
   "source": [
    "### 【問題4】決定領域の可視化"
   ]
  },
  {
   "cell_type": "code",
   "execution_count": 9,
   "metadata": {},
   "outputs": [
    {
     "data": {
      "text/plain": [
       "array([[1.00048209e-05],\n",
       "       [1.00002225e-05],\n",
       "       [1.00016328e-05]])"
      ]
     },
     "execution_count": 9,
     "metadata": {},
     "output_type": "execute_result"
    }
   ],
   "source": [
    "np.sort(model.lam)[::-1][:3,:] #トップ３"
   ]
  },
  {
   "cell_type": "code",
   "execution_count": 10,
   "metadata": {},
   "outputs": [],
   "source": [
    "top3 = np.hstack((model.lam, model.lam_X))\n",
    "top3 = np.sort(top3)[::-1][:,:]"
   ]
  },
  {
   "cell_type": "code",
   "execution_count": 14,
   "metadata": {},
   "outputs": [
    {
     "data": {
      "text/plain": [
       "array([[-6.35944665e-01,  1.00048209e-05,  5.59763850e-02],\n",
       "       [-9.48087001e-02,  1.00002225e-05,  9.20694902e-01],\n",
       "       [-6.16207395e-01,  1.00016328e-05,  2.95335547e-01],\n",
       "       [-5.61579724e-02,  1.00005064e-05,  9.28731590e-01],\n",
       "       [-8.58001751e-01, -1.18576563e-01,  1.00042762e-05],\n",
       "       [-8.85561812e-01, -1.76086622e-01,  1.00047226e-05],\n",
       "       [-1.29276452e+00, -3.50101054e-01,  1.00013671e-05],\n",
       "       [-4.28807723e-01,  1.00029584e-05,  3.94012999e-01],\n",
       "       [-5.93842524e-01,  1.00048004e-05,  1.06522625e-01],\n",
       "       [ 1.00012210e-05,  2.38473299e-01,  1.18971056e+00],\n",
       "       [-6.50113401e-01,  1.00020997e-05,  2.28853142e-01],\n",
       "       [-4.78969002e-01,  1.00027331e-05,  3.58692007e-01],\n",
       "       [-1.00703748e+00, -9.27423794e-02,  1.00015173e-05],\n",
       "       [-1.41995351e-01,  1.00017968e-05,  7.56398677e-01]])"
      ]
     },
     "execution_count": 14,
     "metadata": {},
     "output_type": "execute_result"
    }
   ],
   "source": [
    "top3"
   ]
  },
  {
   "cell_type": "code",
   "execution_count": 22,
   "metadata": {},
   "outputs": [],
   "source": [
    "import matplotlib.pyplot as plt\n",
    "from matplotlib.colors import ListedColormap\n",
    "import matplotlib.patches as mpatches\n",
    "\n",
    "def decision_region(X_train, y_train, model, step=0.01, title='decision region', xlabel='xlabel', ylabel='ylabel', target_names=['X_label_1', 'X_label_2']):\n",
    "    \"\"\"\n",
    "    Draw the decision area of the model learned by binary classification with two dimensional \n",
    "    feature quantity.\n",
    "     The color of the background is drawn from the estimated value by the learned model.\n",
    "     The point of the scatter diagram is learning data.\n",
    "\n",
    "     Parameters\n",
    "     ------------------\n",
    "     X_train: ndarray, shape (n_samples, 2)\n",
    "         Characteristic quantity of learning data\n",
    "     y_train: ndarray, shape (n_samples,)\n",
    "         Correct value of learning data\n",
    "     model: object\n",
    "         **** Insert Instantus of the learned model\n",
    "     step: float, (default: 0.1)\n",
    "         Set interval to calculate estimated value\n",
    "     title: str\n",
    "         Give the text of the title of the graph\n",
    "     xlabel, ylabel: str\n",
    "         Give sentences of axis labels\n",
    "     target_names =: list of str\n",
    "         Give a list of legends\n",
    "    \"\"\"\n",
    "    # define Initial setting \n",
    "    fig, ax = plt.subplots(figsize=(6, 6))\n",
    "    fig.patch.set_facecolor('skyblue')\n",
    "    fig.patch.set_alpha(1)\n",
    "    ax.patch.set_facecolor('white')\n",
    "    ax.patch.set_alpha(1)\n",
    "    # ax.set_yscale('log') \n",
    "    plt.grid()\n",
    "    \n",
    "    # setting\n",
    "    scatter_color = ['red', 'green']\n",
    "    contourf_color = ['pink', 'skyblue']\n",
    "    n_class = 2\n",
    "\n",
    "    # pred\n",
    "    mesh_f0, mesh_f1  = np.meshgrid(np.arange(np.min(X_train[:,0])-0.5, np.max(X_train[:,0])+0.5, step), np.arange(np.min(X_train[:,1])-0.5, np.max(X_train[:,1])+0.5, step))\n",
    "    mesh = np.c_[np.ravel(mesh_f0),np.ravel(mesh_f1)]\n",
    "    pred = model.predict(mesh).reshape(mesh_f0.shape)\n",
    "\n",
    "    # plot setting title\n",
    "    plt.title(title)\n",
    "    plt.xlabel(xlabel)\n",
    "    plt.ylabel(ylabel)\n",
    "    \n",
    "    plt.contour(mesh_f0, mesh_f1, pred, n_class-1, colors='g', linewidths=5, alpha=0.5)\n",
    "    \n",
    "    for i, target in enumerate(set(y_train)):\n",
    "        plt.scatter(X_train[y_train==target][:, 0], X_train[y_train==target][:, 1], s=150, color=scatter_color[i], label=target_names[i], \n",
    "                    marker='x', alpha=0.7)\n",
    "    plt.scatter(model.lam_X[:, 0], model.lam_X[:, 1], c='gold')\n",
    "        \n",
    "    patches = [mpatches.Patch(color=scatter_color[i], label=target_names[i]) for i in range(n_class)]\n",
    "    plt.legend(handles=patches)\n",
    "    plt.legend()\n",
    "    plt.show()"
   ]
  },
  {
   "cell_type": "code",
   "execution_count": 23,
   "metadata": {},
   "outputs": [
    {
     "name": "stdout",
     "output_type": "stream",
     "text": [
      "[[ 5.27090619e-05]\n",
      " [ 5.19909997e-05]\n",
      " [ 5.12729376e-05]\n",
      " ...\n",
      " [-6.95969629e-05]\n",
      " [-7.03150251e-05]\n",
      " [-7.10330873e-05]]\n"
     ]
    },
    {
     "data": {
      "image/png": "[encoded data removed]",
      "text/plain": [
       "<Figure size 432x432 with 1 Axes>"
      ]
     },
     "metadata": {},
     "output_type": "display_data"
    }
   ],
   "source": [
    "decision_region(X_train, y_train, model, xlabel='X_1', ylabel=\"X_2\")"
   ]
  },
  {
   "cell_type": "markdown",
   "metadata": {},
   "source": [
    "## ディスカッション"
   ]
  },
  {
   "cell_type": "markdown",
   "metadata": {},
   "source": [
    "### 【問題6】ロジスティック回帰とSVM\n",
    "最終発表時に以下の内容についてディスカッションを行います。自分なりの意見を用意しておいてください。\n",
    "<br>ロジスティック回帰とSVMは本質的に何が異なっているか\n",
    "<br>注意点: 答えがある問いではありません。いろいろな視点から見て理解を深めていきましょう。"
   ]
  },
  {
   "cell_type": "markdown",
   "metadata": {},
   "source": [
    "・ロジスティック回帰は、分類しかできないが、SVMは分類問題も回帰問題も解くことができる。\n",
    "<br>・ロジスティック回帰は確率を出しているが、SVMは確率ではない何かを出している。"
   ]
  }
 ],
 "metadata": {
  "kernelspec": {
   "display_name": "Python 3",
   "language": "python",
   "name": "python3"
  },
  "language_info": {
   "codemirror_mode": {
    "name": "ipython",
    "version": 3
   },
   "file_extension": ".py",
   "mimetype": "text/x-python",
   "name": "python",
   "nbconvert_exporter": "python",
   "pygments_lexer": "ipython3",
   "version": "3.6.8"
  },
  "toc": {
   "base_numbering": 1,
   "nav_menu": {},
   "number_sections": true,
   "sideBar": true,
   "skip_h1_title": false,
   "title_cell": "Table of Contents",
   "title_sidebar": "Contents",
   "toc_cell": false,
   "toc_position": {},
   "toc_section_display": true,
   "toc_window_display": true
  }
 },
 "nbformat": 4,
 "nbformat_minor": 2
}
