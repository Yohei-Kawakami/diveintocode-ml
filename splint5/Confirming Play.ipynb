{
 "cells": [
  {
   "cell_type": "code",
   "execution_count": 2,
   "metadata": {
    "scrolled": true
   },
   "outputs": [
    {
     "data": {
      "text/plain": [
       "array([[ -6.52414801,  28.50508833],\n",
       "       [ 15.93850848,  18.28576513],\n",
       "       [-28.05454099,   7.03043552],\n",
       "       [-13.62953392,   4.62486758],\n",
       "       [ -0.92683877, -16.31722594]])"
      ]
     },
     "execution_count": 2,
     "metadata": {},
     "output_type": "execute_result"
    }
   ],
   "source": [
    "import numpy as np\n",
    "X_lam = np.random.randn(10, 1).reshape(5, 2)*10\n",
    "X_lam"
   ]
  },
  {
   "cell_type": "code",
   "execution_count": null,
   "metadata": {},
   "outputs": [],
   "source": []
  },
  {
   "cell_type": "code",
   "execution_count": 15,
   "metadata": {},
   "outputs": [
    {
     "name": "stdout",
     "output_type": "stream",
     "text": [
      "[[ 7.53107146 -3.19930761]\n",
      " [ 7.89026284 -0.81958047]\n",
      " [ 3.92509563  3.38841976]]\n",
      "[[ 7.53107146 -3.19930761]\n",
      " [ 7.89026284 -0.81958047]\n",
      " [ 3.92509563  3.38841976]]\n"
     ]
    }
   ],
   "source": [
    "lam1 = lam[np.any(lam > 3, axis=1), :]\n",
    "print(lam1)\n",
    "lam2 = lam[:, np.any(lam > 3, axis=0)]\n",
    "print(lam2)"
   ]
  },
  {
   "cell_type": "code",
   "execution_count": 18,
   "metadata": {},
   "outputs": [
    {
     "data": {
      "text/plain": [
       "array([[1, 0],\n",
       "       [1, 0],\n",
       "       [1, 1]])"
      ]
     },
     "execution_count": 18,
     "metadata": {},
     "output_type": "execute_result"
    }
   ],
   "source": [
    "(lam1 >= 0).astype(int) # 数値の要素に対してTrue or Falseで返す\n",
    "# 全体をsum()して、条件に合うものの個数で条件付する"
   ]
  },
  {
   "cell_type": "code",
   "execution_count": 19,
   "metadata": {},
   "outputs": [
    {
     "data": {
      "text/plain": [
       "array([[7.53107146, 0.        ],\n",
       "       [7.89026284, 0.        ],\n",
       "       [3.92509563, 3.38841976]])"
      ]
     },
     "execution_count": 19,
     "metadata": {},
     "output_type": "execute_result"
    }
   ],
   "source": [
    "np.where(lam1 < 0, 0, lam1) # 数値の要素に対して、置換する"
   ]
  },
  {
   "cell_type": "code",
   "execution_count": null,
   "metadata": {},
   "outputs": [],
   "source": []
  }
 ],
 "metadata": {
  "kernelspec": {
   "display_name": "Python 3",
   "language": "python",
   "name": "python3"
  },
  "language_info": {
   "codemirror_mode": {
    "name": "ipython",
    "version": 3
   },
   "file_extension": ".py",
   "mimetype": "text/x-python",
   "name": "python",
   "nbconvert_exporter": "python",
   "pygments_lexer": "ipython3",
   "version": "3.6.8"
  },
  "toc": {
   "base_numbering": 1,
   "nav_menu": {},
   "number_sections": true,
   "sideBar": true,
   "skip_h1_title": false,
   "title_cell": "Table of Contents",
   "title_sidebar": "Contents",
   "toc_cell": false,
   "toc_position": {},
   "toc_section_display": true,
   "toc_window_display": false
  }
 },
 "nbformat": 4,
 "nbformat_minor": 2
}
