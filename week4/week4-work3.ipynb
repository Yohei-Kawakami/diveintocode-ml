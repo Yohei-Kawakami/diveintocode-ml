{
 "cells": [
  {
   "cell_type": "markdown",
   "metadata": {
    "collapsed": true
   },
   "source": [
    "### 1) Enumerate the classes that have been used"
   ]
  },
  {
   "cell_type": "code",
   "execution_count": 9,
   "metadata": {},
   "outputs": [
    {
     "name": "stdout",
     "output_type": "stream",
     "text": [
      "mean : [4.86 3.31 1.45 0.22]\n",
      "variance : [0.0764 0.0849 0.0105 0.0056]\n"
     ]
    }
   ],
   "source": [
    "import numpy as np\n",
    "from sklearn.preprocessing import StandardScaler\n",
    "from sklearn.datasets import load_iris\n",
    "\n",
    "data = load_iris()\n",
    "X = data.data[:10]\n",
    "\n",
    "scaler = StandardScaler()\n",
    "scaler.fit(X)\n",
    "\n",
    "print(\"mean :\", scaler.mean_)\n",
    "print(\"variance :\", scaler.var_)\n",
    "X_std = scaler.transform(X)"
   ]
  },
  {
   "cell_type": "code",
   "execution_count": 10,
   "metadata": {
    "collapsed": true
   },
   "outputs": [],
   "source": [
    "scaler0 = StandardScaler()\n",
    "scaler1 = StandardScaler()\n",
    "scaler2 = StandardScaler()"
   ]
  },
  {
   "cell_type": "markdown",
   "metadata": {},
   "source": [
    "## Enumerate Class names;\n",
    "\n",
    "pandas: DataFrame\n",
    "\n",
    "matplotlib: figure, axes\n",
    "\n",
    "scikit-learn:　sklearn.svm (data mining etc...)"
   ]
  },
  {
   "cell_type": "markdown",
   "metadata": {},
   "source": [
    "### 2) Learning using other feature"
   ]
  },
  {
   "cell_type": "markdown",
   "metadata": {},
   "source": [
    "###### method/\n",
    "DataFrame; head(), info(), describe(), isnull(), sum()\n",
    "\n",
    "###### instance valuable/\n",
    "numpy.ndarray; dtype,  size, shape, T\n",
    "DataFrame; comlumns, index, dtype"
   ]
  },
  {
   "cell_type": "markdown",
   "metadata": {},
   "source": [
    "### 3)  Enumerate methods and instance variables"
   ]
  },
  {
   "cell_type": "code",
   "execution_count": 12,
   "metadata": {
    "collapsed": true
   },
   "outputs": [],
   "source": [
    "class ScratchStandardScaler():\n",
    "    \"\"\"\n",
    "    class of standardization\n",
    "\n",
    "    Attributes\n",
    "    ----------\n",
    "    mean_ : next shape of ndarray, shape(n_features,)\n",
    "    var_ : next shape of next ndarray, shape(n_features,)\n",
    "    \n",
    "    \"\"\"\n",
    "\n",
    "    def fit(self, X):\n",
    "        \"\"\"\n",
    "        Calculate mean and standard deviation for standardization\n",
    "\n",
    "        Parameters\n",
    "        ----------\n",
    "        X : next shape of ndarray, shape (n_samples, n_features)\n",
    "            train data\n",
    "        \"\"\"\n",
    "\n",
    "        self.mean_ = X.mean(axis=0)\n",
    "        self.var_ =  X.var(axis=0)\n",
    "\n",
    "\n",
    "    def transform(self, X):\n",
    "        \"\"\"\n",
    "        use the above value \n",
    "\n",
    "        Parameters\n",
    "        ----------\n",
    "        X : next shape of ndarray, shape (n_samples, n_features)\n",
    "            \n",
    "\n",
    "        Returns\n",
    "        ----------\n",
    "        X_scaled : next shape of ndarray, shape (n_samples, n_features)\n",
    "            \n",
    "        \"\"\"\n",
    "        X_scaled = (X - self.mean_) / np.sqrt(self.var_)\n",
    "        \n",
    "        return X_scaled"
   ]
  },
  {
   "cell_type": "code",
   "execution_count": 16,
   "metadata": {},
   "outputs": [
    {
     "name": "stdout",
     "output_type": "stream",
     "text": [
      "mean : [4.86 3.31 1.45 0.22]\n",
      "variance : [0.0764 0.0849 0.0105 0.0056]\n"
     ]
    }
   ],
   "source": [
    "import numpy as np\n",
    "from sklearn.datasets import load_iris\n",
    "\n",
    "data = load_iris()\n",
    "X = data.data[:10]\n",
    "\n",
    "scratch_scaler = ScratchStandardScaler()\n",
    "scratch_scaler.fit(X)\n",
    "print(\"mean :\", scratch_scaler.mean_)\n",
    "print(\"variance :\", scratch_scaler.var_)\n",
    "X_std = scratch_scaler.transform(X)"
   ]
  },
  {
   "cell_type": "code",
   "execution_count": 18,
   "metadata": {},
   "outputs": [
    {
     "name": "stdout",
     "output_type": "stream",
     "text": [
      "Initial value 5 has been set.\n",
      "value : 5\n",
      "value : 8\n"
     ]
    }
   ],
   "source": [
    "class ExampleClass():\n",
    "    \"\"\"\n",
    "    Easy class for explanation\n",
    "\n",
    "    Parameters\n",
    "    ----------\n",
    "    value : float or int\n",
    "\n",
    "    Attributes\n",
    "    ----------\n",
    "    value : float or int\n",
    "\n",
    "    \"\"\"\n",
    "    def __init__(self, value):\n",
    "        self.value = value\n",
    "        print(\"Initial value {} has been set.\".format(self.value))\n",
    "    def add(self, value2):\n",
    "        \"\"\"\n",
    "        Add received arguments to self.value\n",
    "        \"\"\"\n",
    "        self.value += value2\n",
    "\n",
    "example = ExampleClass(5)\n",
    "print(\"value :\", example.value)\n",
    "example.add(3)\n",
    "print(\"value :\", example.value)"
   ]
  },
  {
   "cell_type": "markdown",
   "metadata": {},
   "source": [
    "### 4) Creation of classes to perform arithmetic operations"
   ]
  },
  {
   "cell_type": "code",
   "execution_count": 67,
   "metadata": {},
   "outputs": [],
   "source": [
    "class ArithmeticClass():\n",
    "    \n",
    "    \"\"\"\n",
    "    Attribute :calcurate four arithmetic operations on value\n",
    "\n",
    "    Parameters\n",
    "    ----------\n",
    "    value : float or int\n",
    "\n",
    "    Attributes\n",
    "    ----------\n",
    "    value : float or int\n",
    "    \n",
    "    \"\"\"\n",
    "    def __init__(self, value):\n",
    "        # try and except\n",
    "        if not (type(value) == int or type(value) == float):\n",
    "            print(\"TypeError: You should put int or float.\")\n",
    "            value = 0\n",
    "            \n",
    "        else:\n",
    "            self.value = value\n",
    "            print(\"Initial value, {} has been set.\".format(self.value))\n",
    "            \n",
    "        \n",
    "    def add(self, add_value):\n",
    "        \"\"\"\n",
    "        \n",
    "        Add received arguments to self.value\n",
    "        \n",
    "        \"\"\"\n",
    "        self.value += add_value\n",
    "        return self.value\n",
    "    \n",
    "    def subtract(self, subtract_value):\n",
    "        \"\"\"\n",
    "        \n",
    "        Subtract received arguments to self.value\n",
    "        \n",
    "        \"\"\"\n",
    "        self.value -= subtract_value\n",
    "        return self.value\n",
    "        \n",
    "    def multiply(self, multiply_value):\n",
    "        \"\"\"\n",
    "        \n",
    "        Multiply received arguments to self.value\n",
    "        \n",
    "        \"\"\"\n",
    "        self.value *= multiply_value\n",
    "        return self.value\n",
    "    \n",
    "    def divide(self, divide_value):\n",
    "        \"\"\"\n",
    "        \n",
    "        Division received arguments to self.value\n",
    "        \n",
    "        \"\"\"\n",
    "        self.value /= divide_value\n",
    "        \n",
    "        return swelf.value"
   ]
  },
  {
   "cell_type": "code",
   "execution_count": 68,
   "metadata": {},
   "outputs": [
    {
     "name": "stdout",
     "output_type": "stream",
     "text": [
      "Initial value, 5 has been set.\n"
     ]
    }
   ],
   "source": [
    "initial_value = ArithmeticClass(5)"
   ]
  },
  {
   "cell_type": "code",
   "execution_count": 73,
   "metadata": {},
   "outputs": [
    {
     "data": {
      "text/plain": [
       "8"
      ]
     },
     "execution_count": 73,
     "metadata": {},
     "output_type": "execute_result"
    }
   ],
   "source": [
    "initial_value.add(2)"
   ]
  },
  {
   "cell_type": "code",
   "execution_count": 74,
   "metadata": {},
   "outputs": [
    {
     "data": {
      "text/plain": [
       "5"
      ]
     },
     "execution_count": 74,
     "metadata": {},
     "output_type": "execute_result"
    }
   ],
   "source": [
    "initial_value.subtract(3)"
   ]
  },
  {
   "cell_type": "code",
   "execution_count": 75,
   "metadata": {},
   "outputs": [
    {
     "data": {
      "text/plain": [
       "15"
      ]
     },
     "execution_count": 75,
     "metadata": {},
     "output_type": "execute_result"
    }
   ],
   "source": [
    "initial_value.multiply(3)"
   ]
  },
  {
   "cell_type": "code",
   "execution_count": 76,
   "metadata": {},
   "outputs": [
    {
     "data": {
      "text/plain": [
       "5.0"
      ]
     },
     "execution_count": 76,
     "metadata": {},
     "output_type": "execute_result"
    }
   ],
   "source": [
    "initial_value.divide(3)"
   ]
  },
  {
   "cell_type": "code",
   "execution_count": null,
   "metadata": {
    "collapsed": true
   },
   "outputs": [],
   "source": []
  }
 ],
 "metadata": {
  "kernelspec": {
   "display_name": "Python 3",
   "language": "python",
   "name": "python3"
  },
  "language_info": {
   "codemirror_mode": {
    "name": "ipython",
    "version": 3
   },
   "file_extension": ".py",
   "mimetype": "text/x-python",
   "name": "python",
   "nbconvert_exporter": "python",
   "pygments_lexer": "ipython3",
   "version": "3.6.2"
  }
 },
 "nbformat": 4,
 "nbformat_minor": 2
}
