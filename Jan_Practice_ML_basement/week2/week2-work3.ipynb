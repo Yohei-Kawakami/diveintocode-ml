{
 "cells": [
  {
   "cell_type": "markdown",
   "metadata": {},
   "source": [
    "# week2 / assignment3"
   ]
  },
  {
   "cell_type": "markdown",
   "metadata": {},
   "source": [
    "### 1. Inner product of vector"
   ]
  },
  {
   "cell_type": "markdown",
   "metadata": {},
   "source": [
    "$$\n",
    "    % \"boldsymbol\"で太字にしている\n",
    "    \\boldsymbol{A} =\n",
    "        % ベクトルや行列は\"left[\"と\"right]\"でベクトルや行列の括弧を作る\n",
    "        % 括弧内に\"array\"環境を展開する\n",
    "        % {c|cc}の形で中央揃え、縦線、中央揃え*2の並びに出来る\n",
    "        \\left[\\begin{array}{ccc}\n",
    "            -1 & 2 & 3\\\\\n",
    "            4 & -5 & 6 \\\\\n",
    "            7 & 8 & -9\\\\\n",
    "        \\end{array}\\right] \\quad\n",
    "    \\boldsymbol{B} =\n",
    "        \\left[\\begin{array}{ccc}\n",
    "            % 横並びは&を挟む\n",
    "            0 & 2 & 1 \\\\\n",
    "            0 & 2 & -8 \\\\\n",
    "            2 & 9 & -1 \\\\\n",
    "        \\end{array}\\right] \\quad\n",
    "$$\n",
    "\n",
    "\n",
    "行列の内積A*Bを手計算でときなさい。\n",
    "\n",
    "$$\n",
    "    \\boldsymbol{A*B} =\n",
    "        \\left[\\begin{array}{ccc}\n",
    "            % 横並びは&を挟む\n",
    "            6 & 29 & -20 \\\\\n",
    "            12 & 52 & 38 \\\\\n",
    "            -18 & -51 & -48 \\\\\n",
    "        \\end{array}\\right] \\quad\n",
    "$$"
   ]
  },
  {
   "cell_type": "markdown",
   "metadata": {},
   "source": [
    "### 2. Calculate product of one dimensional array by for statement"
   ]
  },
  {
   "cell_type": "code",
   "execution_count": 5,
   "metadata": {},
   "outputs": [
    {
     "name": "stdout",
     "output_type": "stream",
     "text": [
      "[  6.  29. -20.]\n"
     ]
    }
   ],
   "source": [
    "\"\"\"\n",
    "\n",
    "A*B : Caluculate the product of the matrix.\n",
    "A:[3, 3]\n",
    "B:[3, 3]\n",
    "\n",
    "\"\"\"\n",
    "\n",
    "\"\"\"\n",
    "\n",
    "A*B :行列の積の1行目1列目を求める。\n",
    "Aは、3×3行列です。\n",
    "Bは、3×3行列です。\n",
    "\n",
    "\"\"\"\n",
    "\n",
    "import numpy as np\n",
    "\n",
    "# define specified matrix A & B\n",
    "A = np.array([[-1, 2, 3],\n",
    "             [4, -5, 6],\n",
    "             [7,  8, -9]])\n",
    "\n",
    "B = np.array([[0, 2, 1],\n",
    "             [0, 2, -8],\n",
    "             [2,  9, -1]])\n",
    "\n",
    "# Generate empty array\n",
    "A_B_1 = np.array([])\n",
    "\n",
    "# multiple matrix: each elements three times, each line three times\n",
    "for num1 in range(3):\n",
    "    # generate empty variable\n",
    "    sum_line = 0\n",
    "    for num2 in range(3):\n",
    "        # add sum of elements\n",
    "        sum_line += A[0][num2]*B[num2][num1]\n",
    "    # append sum_line to output array\n",
    "    A_B_1 = np.append(sum_line, A_B_1)\n",
    "        \n",
    "# Invert A_B_1\n",
    "mul_matrix_A_B_1 = (A_B_1)[::-1]        \n",
    "# Output\n",
    "print(mul_matrix_A_B_1[0])"
   ]
  },
  {
   "cell_type": "markdown",
   "metadata": {},
   "source": [
    "### 3.  How can we get all the elements?"
   ]
  },
  {
   "cell_type": "code",
   "execution_count": 2,
   "metadata": {
    "scrolled": false
   },
   "outputs": [
    {
     "name": "stdout",
     "output_type": "stream",
     "text": [
      "[[  6.  29. -20.]\n",
      " [ 12.  52.  38.]\n",
      " [-18. -51. -48.]]\n"
     ]
    }
   ],
   "source": [
    "\"\"\"\n",
    "\n",
    "A*B : Caluculate the product of the matrix.\n",
    "A:[3, 3]\n",
    "B:[3, 3]\n",
    "\n",
    "\"\"\"\n",
    "\n",
    "\"\"\"\n",
    "\n",
    "A*B :行列の積を求める。\n",
    "Aは、3×3行列です。\n",
    "Bは、3×3行列です。\n",
    "\n",
    "\"\"\"\n",
    "# array to store A*B\n",
    "# A×Bを格納するアレイ\n",
    "A_B_2 = np.array([])\n",
    "\n",
    "\"\"\"\n",
    "1, multiplication of elements\n",
    "  → Total elements\n",
    "  → Store total value in array\n",
    "  → Update the value to 0\n",
    "  → ...\n",
    "\n",
    "2, Repeat 1 above three times with for statement and store one row of output vector in the array.\n",
    "\n",
    "3. Repeat this for 3 lines and store them all in one array.\n",
    "\n",
    "4, Finally, invert the array to form a 3 × 3 matrix.\n",
    "\n",
    "\"\"\"\n",
    "\n",
    "\"\"\"\n",
    "\n",
    "1, 要素の掛け算\n",
    " → 要素を合計\n",
    " → アレイに合計値を格納\n",
    " → 要素合計の値を0に更新\n",
    " → …\n",
    "\n",
    "2, 上記1をfor文で3回繰り返し、出力されるベクトルの1行分をアレイに格納する。\n",
    "\n",
    "3, これを3行分繰り返し、すべて一つのアレイに格納する。\n",
    "\n",
    "4, 最後に、アレイを反転させ、3×3の行列の形にする。\n",
    "\n",
    "\"\"\"\n",
    "\n",
    "for num0 in range(3):\n",
    "    for num1 in range(3):\n",
    "        sum_elements = 0\n",
    "        for num2 in range(3):\n",
    "            # add sum of elements\n",
    "            sum_elements += A[num0][num2]*B[num2][num1]\n",
    "        # append sum_line to output array\n",
    "        A_B_2 = np.append(sum_elements, A_B_2)\n",
    "        \n",
    "# Invert and reshape A_B_1\n",
    "mul_matirix_A_B = np.reshape((A_B_2)[::-1],(3, 3))\n",
    "# Output\n",
    "print(mul_matirix_A_B)"
   ]
  },
  {
   "cell_type": "markdown",
   "metadata": {},
   "source": [
    "### 4.Calculate inner product by np.dot"
   ]
  },
  {
   "cell_type": "code",
   "execution_count": 3,
   "metadata": {},
   "outputs": [
    {
     "name": "stdout",
     "output_type": "stream",
     "text": [
      "[[  6  29 -20]\n",
      " [ 12  52  38]\n",
      " [-18 -51 -48]]\n"
     ]
    }
   ],
   "source": [
    "print(np.dot(A, B))"
   ]
  },
  {
   "cell_type": "markdown",
   "metadata": {},
   "source": []
  },
  {
   "cell_type": "markdown",
   "metadata": {},
   "source": [
    "### 5. What if you can not do inner product?"
   ]
  },
  {
   "cell_type": "code",
   "execution_count": 4,
   "metadata": {},
   "outputs": [
    {
     "name": "stdout",
     "output_type": "stream",
     "text": [
      "[[ 46  -4]\n",
      " [-34  73]]\n"
     ]
    }
   ],
   "source": [
    "A = np.array([[-1, 2, 3],\n",
    "             [4, -5, 6]])\n",
    "\n",
    "B = np.array([[-9, 8, 7],\n",
    "             [6, -5,4]])\n",
    "\n",
    "# Generate transposed matrix\n",
    "B_T = B.T\n",
    "\n",
    "print(np.dot(A, B_T))\n",
    "\n",
    "# "
   ]
  },
  {
   "cell_type": "code",
   "execution_count": null,
   "metadata": {
    "collapsed": true
   },
   "outputs": [],
   "source": []
  }
 ],
 "metadata": {
  "kernelspec": {
   "display_name": "Python 3",
   "language": "python",
   "name": "python3"
  },
  "language_info": {
   "codemirror_mode": {
    "name": "ipython",
    "version": 3
   },
   "file_extension": ".py",
   "mimetype": "text/x-python",
   "name": "python",
   "nbconvert_exporter": "python",
   "pygments_lexer": "ipython3",
   "version": "3.6.2"
  }
 },
 "nbformat": 4,
 "nbformat_minor": 2
}
