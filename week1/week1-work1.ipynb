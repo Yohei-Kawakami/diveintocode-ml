{
 "cells": [
  {
   "cell_type": "code",
   "execution_count": null,
   "metadata": {},
   "outputs": [],
   "source": [
    "\"\"\"\n",
    "紙を1回折った時の厚さを計算するコード\n",
    "\"\"\"\n",
    "\n",
    "thickness = 0.00008\n",
    "\n",
    "folded_thickness = thickness*(2**43)\n",
    "\n",
    "print(\"厚さ： {}キロメートル\".format(folded_thickness/1000))"
   ]
  },
  {
   "cell_type": "code",
   "execution_count": 14,
   "metadata": {},
   "outputs": [
    {
     "name": "stdout",
     "output_type": "stream",
     "text": [
      "厚さ： 703687.44177664キロメートル\n",
      "time: 0.0[ms]\n"
     ]
    }
   ],
   "source": [
    "import time\n",
    "start = time.process_time()\n",
    "\n",
    "thickness = 0.00008\n",
    "\n",
    "folded_thickness = thickness*(2**43)\n",
    "\n",
    "print(\"厚さ： {}キロメートル\".format(folded_thickness/1000))\n",
    "\n",
    "end = time.process_time()\n",
    "elapsed_time = end - start\n",
    "\n",
    "print(\"time: {}[ms]\".format(elapsed_time*1000)) # コード修正が必要でした。"
   ]
  },
  {
   "cell_type": "code",
   "execution_count": 11,
   "metadata": {},
   "outputs": [
    {
     "name": "stdout",
     "output_type": "stream",
     "text": [
      "厚さ： 703687.44177664キロメートル\n",
      "time: 0.0[ms]\n"
     ]
    }
   ],
   "source": [
    "import time\n",
    "start = time.process_time()\n",
    "\n",
    "thickness = 0.00008\n",
    "\n",
    "for num in range(0,43):\n",
    "    thickness = thickness*2\n",
    "    \n",
    "print(\"厚さ： {}キロメートル\".format(thickness/1000))\n",
    "\n",
    "end = time.process_time()\n",
    "\n",
    "elapsed_time = end - start\n",
    "\n",
    "print(\"time: {}[ms]\".format(elapsed_time*1000)) # コード修正が必要でした。"
   ]
  },
  {
   "cell_type": "code",
   "execution_count": null,
   "metadata": {
    "collapsed": true
   },
   "outputs": [],
   "source": [
    "import time\n",
    "start = time.time()\n",
    "\n",
    "thickness = 0.00008\n",
    "\n",
    "folded_thickness = thickness*(2**43)\n",
    "\n",
    "print(\"厚さ： {}キロメートル\".format(folded_thickness/1000))\n",
    "\n",
    "elapsed_time = time.time() - start\n",
    "\n",
    "print(\"time: {}[ms]\".format(elapsed_time*1000)) # コード修正が必要でした。"
   ]
  },
  {
   "cell_type": "code",
   "execution_count": null,
   "metadata": {},
   "outputs": [],
   "source": [
    "\"\"\"\n",
    "グラフを表示する。タイトルと軸ラベル名付き。\n",
    "\"\"\"\n",
    "import matplotlib.pyplot as plt\n",
    "%matplotlib inline\n",
    "\n",
    "plt.title(\"thickness of folded paper\")\n",
    "plt.xlabel(\"number of folds\")\n",
    "plt.ylabel(\"thickness[m]\")\n",
    "plt.plot(numbers) # 「配列名」のところにlist型変数を入れる"
   ]
  },
  {
   "cell_type": "code",
   "execution_count": null,
   "metadata": {},
   "outputs": [],
   "source": [
    "\"\"\"\n",
    "グラフを表示する。タイトルと軸ラベル名付き。\n",
    "\"\"\"\n",
    "import matplotlib.pyplot as plt\n",
    "%matplotlib inline\n",
    "\n",
    "plt.title(\"thickness of folded paper\")\n",
    "plt.xlabel(\"number of folds\")\n",
    "plt.ylabel(\"thickness[m]\")\n",
    "plt.plot(numbers, color='green', marker='o', markersize=4,markerfacecolor='lightblue' \n",
    "        , linestyle='dashdot', linewidth=1)"
   ]
  },
  {
   "cell_type": "code",
   "execution_count": null,
   "metadata": {},
   "outputs": [],
   "source": [
    "\"\"\"\n",
    "グラフを表示する。タイトルと軸ラベル名付き。\n",
    "\"\"\"\n",
    "import matplotlib.pyplot as plt\n",
    "%matplotlib inline\n",
    "\n",
    "fig, ax = plt.subplots(figsize=(12, 9))\n",
    "\n",
    "plt.title(\"thickness of folded paper\", size=20)\n",
    "plt.xlabel(\"number of folds\", size=15)\n",
    "plt.ylabel(\"thickness[m]\", size=15)\n",
    "plt.plot(numbers, color='purple', marker='x', markersize=9 ,markerfacecolor='lightblue' \n",
    "        , linestyle='dashed', linewidth=2)"
   ]
  },
  {
   "cell_type": "code",
   "execution_count": null,
   "metadata": {},
   "outputs": [],
   "source": [
    "\"\"\"\n",
    "グラフを表示する。タイトルと軸ラベル名付き。\n",
    "\"\"\"\n",
    "import matplotlib.pyplot as plt\n",
    "%matplotlib inline\n",
    "\n",
    "fig, ax = plt.subplots(figsize=(7, 7))\n",
    "fig.patch.set_facecolor('blue')\n",
    "fig.patch.set_alpha(0.1)\n",
    "ax.patch.set_facecolor('black')\n",
    "ax.patch.set_alpha(0.1)\n",
    "plt.grid()\n",
    "\n",
    "plt.title(\"thickness of folded paper\", size=20, color='blue')\n",
    "plt.xlabel(\"number of folds\", size=15)\n",
    "plt.ylabel(\"thickness[m]\", size=15)\n",
    "plt.plot(numbers, color='darkblue', marker='x', markersize=9 ,markerfacecolor='lightblue' \n",
    "        , linestyle='dashed', linewidth=2, label='thichness of folded paper')\n",
    "\n",
    "moon_distance = 384400000\n",
    "\n",
    "moon_list = []\n",
    "for i in range(0, 44):\n",
    "    moon_list.append(moon_distance)\n",
    "\n",
    "plt.plot(moon_list, color='green', marker='o', markersize=9 ,markerfacecolor='lightblue' \n",
    "        , linestyle='dotted', linewidth=2, label='Moon_Distance')\n",
    "\n",
    "plt.legend()"
   ]
  },
  {
   "cell_type": "code",
   "execution_count": null,
   "metadata": {
    "collapsed": true
   },
   "outputs": [],
   "source": []
  }
 ],
 "metadata": {
  "kernelspec": {
   "display_name": "Python 3",
   "language": "python",
   "name": "python3"
  },
  "language_info": {
   "codemirror_mode": {
    "name": "ipython",
    "version": 3
   },
   "file_extension": ".py",
   "mimetype": "text/x-python",
   "name": "python",
   "nbconvert_exporter": "python",
   "pygments_lexer": "ipython3",
   "version": "3.6.2"
  }
 },
 "nbformat": 4,
 "nbformat_minor": 2
}
