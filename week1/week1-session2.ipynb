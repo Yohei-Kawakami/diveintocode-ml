{
 "cells": [
  {
   "cell_type": "code",
   "execution_count": 5,
   "metadata": {
    "scrolled": true
   },
   "outputs": [
    {
     "name": "stdout",
     "output_type": "stream",
     "text": [
      "26\n"
     ]
    }
   ],
   "source": [
    "# thickness of a folded paper more than height of Mt. Fuji\n",
    "thickness = 0.00008\n",
    "height_mt_fuji = 3776\n",
    "\n",
    "count = 0\n",
    "\n",
    "while thickness <= height_mt_fuji:\n",
    "    count += 1\n",
    "    thickness *= 2\n",
    "     \n",
    "    \n",
    "print(count)"
   ]
  },
  {
   "cell_type": "code",
   "execution_count": 27,
   "metadata": {
    "collapsed": true
   },
   "outputs": [],
   "source": [
    "# thickness of a folded paper more than height of a_cetauri\n",
    "def folded_a_paper(thickness_paper):\n",
    "    count = 0\n",
    "    a_centauri = 4.246*9460730472580800\n",
    "\n",
    "    while thickness_paper <= a_centauri:\n",
    "        count += 1\n",
    "        thickness_paper *= 2\n",
    "        \n",
    "    return count"
   ]
  },
  {
   "cell_type": "code",
   "execution_count": 7,
   "metadata": {},
   "outputs": [
    {
     "data": {
      "text/plain": [
       "69"
      ]
     },
     "execution_count": 7,
     "metadata": {},
     "output_type": "execute_result"
    }
   ],
   "source": [
    "folded_a_paper(0.00008)"
   ]
  },
  {
   "cell_type": "code",
   "execution_count": 8,
   "metadata": {
    "collapsed": true
   },
   "outputs": [],
   "source": [
    "# thickness of a folded paper more than everything \n",
    "import math\n",
    "\n",
    "def length_of_paper(t_0, dis):\n",
    "    n = 0\n",
    "    t_init = t_0\n",
    "    \n",
    "    while t_0 <= dis:\n",
    "        n += 1\n",
    "        t_0 *= 2\n",
    "        \n",
    "    return math.pi*t_init/6 * (2**n+4) * (2**n-1)"
   ]
  },
  {
   "cell_type": "code",
   "execution_count": 26,
   "metadata": {},
   "outputs": [
    {
     "name": "stdout",
     "output_type": "stream",
     "text": [
      "富士山の高さに届くトイレットペーパーの長さは188,646,348,487[m]です。\n",
      "月の高さに届くトイレットペーパーの長さは3,240,919,444,170,781,229,056[m]です。\n",
      "地球に一番近い恒星の高さ(太陽除く)に届くトイレットペーパーの長さは3,240,919,444,170,781,229,056[m]です。\n"
     ]
    }
   ],
   "source": [
    "# result of Mt. Fuji\n",
    "result_of_mt_fuji = round(length_of_paper(0.00008, 3776))\n",
    "print(\"富士山の高さに届くトイレットペーパーの長さは{:,}[m]です。\".format(result_of_mt_fuji))\n",
    "\n",
    "# result of moon\n",
    "result_of_moon = round(length_of_paper(0.00008, 384400000))\n",
    "print(\"月の高さに届くトイレットペーパーの長さは{:,}[m]です。\".format(result_of_moon))\n",
    "                       \n",
    "# result of a_centauri\n",
    "result_of_a_centauri = round(length_of_paper(0.00008, 4.246 * 9460730472580800))\n",
    "print(\"地球に一番近い恒星の高さ(太陽除く)に届くトイレットペーパーの長さは{:,}[m]です。\".format(result_of_moon))"
   ]
  },
  {
   "cell_type": "code",
   "execution_count": null,
   "metadata": {
    "collapsed": true
   },
   "outputs": [],
   "source": []
  }
 ],
 "metadata": {
  "kernelspec": {
   "display_name": "Python 3",
   "language": "python",
   "name": "python3"
  },
  "language_info": {
   "codemirror_mode": {
    "name": "ipython",
    "version": 3
   },
   "file_extension": ".py",
   "mimetype": "text/x-python",
   "name": "python",
   "nbconvert_exporter": "python",
   "pygments_lexer": "ipython3",
   "version": "3.6.2"
  }
 },
 "nbformat": 4,
 "nbformat_minor": 2
}
