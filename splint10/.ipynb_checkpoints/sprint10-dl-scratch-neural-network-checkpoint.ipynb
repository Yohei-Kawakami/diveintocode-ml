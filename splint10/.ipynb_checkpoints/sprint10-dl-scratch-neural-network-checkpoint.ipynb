{
 "cells": [
  {
   "cell_type": "markdown",
   "metadata": {},
   "source": [
    "## この課題の目的\n",
    "スクラッチを通してニューラルネットワークの基礎を理解する\n",
    "<br>画像データの簡単な扱い方を知る"
   ]
  },
  {
   "cell_type": "markdown",
   "metadata": {},
   "source": [
    "## スクラッチによる実装\n",
    "NumPyなど最低限のライブラリのみを使いアルゴリズムを実装していきます。\n",
    "<br>今回は多クラス分類を行う3層のニューラルネットワークを作成します。\n",
    "<br>層の数などは固定した上でニューラルネットワークの基本を確認しましょう。\n",
    "<br>次のSprintで層を自由に変えられる設計にしていきます。"
   ]
  },
  {
   "cell_type": "markdown",
   "metadata": {},
   "source": [
    "### データセットの用意\n",
    "MNISTデータセットを使用します。\n",
    "<br>以下のコードを実行すればscikit-learnによりデータセットをダウンロードし、展開まで行えます。\n",
    "<br>はじめて実行した際に、mnist_dirで指定した場所にファイルがダウンロードされます。\n",
    "<br>\n",
    "<br>データセットをダウンロードするコード"
   ]
  },
  {
   "cell_type": "code",
   "execution_count": 68,
   "metadata": {},
   "outputs": [],
   "source": [
    "import numpy as np\n",
    "from keras.datasets import mnist\n",
    "(x_train, y_train), (x_test, y_test) = mnist.load_data()"
   ]
  },
  {
   "cell_type": "markdown",
   "metadata": {},
   "source": [
    "astypeはndarrayの型を変換できるメソッドである。\n",
    "<br>numpy.ndarray.astype — NumPy v1.15 Manual\n",
    "<br>\n",
    "<br>MNISTとは？\n",
    "<br>画像分類のための定番データセットで、手書き数字認識を行います。\n",
    "<br>このデータセットには学習用6万枚、テスト用1万枚の28×28ピクセルの白黒画像、およびそれらが0〜9のどの数字であるかが含まれています。\n",
    "<br>\n",
    "<br>画像データとは？\n",
    "<br>デジタル画像は点の集合で、これをピクセルと呼びます。\n",
    "<br>一般的に白黒画像であればピクセルには0〜255の値が含まれます。\n",
    "<br>一方、カラー画像であればR（赤）、G（緑）、B（青）それぞれに対応する0〜255の値が含まれます。\n",
    "<br>機械学習をする上では、この0〜255の値一つひとつが特徴量として扱われます。\n",
    "<br>0〜255は符号なしの8ビット整数で表せる範囲になるため、NumPyであれば「uint8」型の変数として保持できます。"
   ]
  },
  {
   "cell_type": "markdown",
   "metadata": {},
   "source": [
    "### データセットの確認\n",
    "まず、どういったデータなのかを見てみます。\n",
    "サンプルコード"
   ]
  },
  {
   "cell_type": "code",
   "execution_count": 69,
   "metadata": {
    "scrolled": true
   },
   "outputs": [
    {
     "name": "stdout",
     "output_type": "stream",
     "text": [
      "(60000, 28, 28)\n",
      "(10000, 28, 28)\n",
      "uint8\n",
      "[[  0   0   0   0   0   0   0   0   0   0   0   0   0   0   0   0   0   0\n",
      "    0   0   0   0   0   0   0   0   0   0]\n",
      " [  0   0   0   0   0   0   0   0   0   0   0   0   0   0   0   0   0   0\n",
      "    0   0   0   0   0   0   0   0   0   0]\n",
      " [  0   0   0   0   0   0   0   0   0   0   0   0   0   0   0   0   0   0\n",
      "    0   0   0   0   0   0   0   0   0   0]\n",
      " [  0   0   0   0   0   0   0   0   0   0   0   0   0   0   0   0   0   0\n",
      "    0   0   0   0   0   0   0   0   0   0]\n",
      " [  0   0   0   0   0   0   0   0   0   0   0   0   0   0   0   0   0   0\n",
      "    0   0   0   0   0   0   0   0   0   0]\n",
      " [  0   0   0   0   0   0   0   0   0   0   0   0   3  18  18  18 126 136\n",
      "  175  26 166 255 247 127   0   0   0   0]\n",
      " [  0   0   0   0   0   0   0   0  30  36  94 154 170 253 253 253 253 253\n",
      "  225 172 253 242 195  64   0   0   0   0]\n",
      " [  0   0   0   0   0   0   0  49 238 253 253 253 253 253 253 253 253 251\n",
      "   93  82  82  56  39   0   0   0   0   0]\n",
      " [  0   0   0   0   0   0   0  18 219 253 253 253 253 253 198 182 247 241\n",
      "    0   0   0   0   0   0   0   0   0   0]\n",
      " [  0   0   0   0   0   0   0   0  80 156 107 253 253 205  11   0  43 154\n",
      "    0   0   0   0   0   0   0   0   0   0]\n",
      " [  0   0   0   0   0   0   0   0   0  14   1 154 253  90   0   0   0   0\n",
      "    0   0   0   0   0   0   0   0   0   0]\n",
      " [  0   0   0   0   0   0   0   0   0   0   0 139 253 190   2   0   0   0\n",
      "    0   0   0   0   0   0   0   0   0   0]\n",
      " [  0   0   0   0   0   0   0   0   0   0   0  11 190 253  70   0   0   0\n",
      "    0   0   0   0   0   0   0   0   0   0]\n",
      " [  0   0   0   0   0   0   0   0   0   0   0   0  35 241 225 160 108   1\n",
      "    0   0   0   0   0   0   0   0   0   0]\n",
      " [  0   0   0   0   0   0   0   0   0   0   0   0   0  81 240 253 253 119\n",
      "   25   0   0   0   0   0   0   0   0   0]\n",
      " [  0   0   0   0   0   0   0   0   0   0   0   0   0   0  45 186 253 253\n",
      "  150  27   0   0   0   0   0   0   0   0]\n",
      " [  0   0   0   0   0   0   0   0   0   0   0   0   0   0   0  16  93 252\n",
      "  253 187   0   0   0   0   0   0   0   0]\n",
      " [  0   0   0   0   0   0   0   0   0   0   0   0   0   0   0   0   0 249\n",
      "  253 249  64   0   0   0   0   0   0   0]\n",
      " [  0   0   0   0   0   0   0   0   0   0   0   0   0   0  46 130 183 253\n",
      "  253 207   2   0   0   0   0   0   0   0]\n",
      " [  0   0   0   0   0   0   0   0   0   0   0   0  39 148 229 253 253 253\n",
      "  250 182   0   0   0   0   0   0   0   0]\n",
      " [  0   0   0   0   0   0   0   0   0   0  24 114 221 253 253 253 253 201\n",
      "   78   0   0   0   0   0   0   0   0   0]\n",
      " [  0   0   0   0   0   0   0   0  23  66 213 253 253 253 253 198  81   2\n",
      "    0   0   0   0   0   0   0   0   0   0]\n",
      " [  0   0   0   0   0   0  18 171 219 253 253 253 253 195  80   9   0   0\n",
      "    0   0   0   0   0   0   0   0   0   0]\n",
      " [  0   0   0   0  55 172 226 253 253 253 253 244 133  11   0   0   0   0\n",
      "    0   0   0   0   0   0   0   0   0   0]\n",
      " [  0   0   0   0 136 253 253 253 212 135 132  16   0   0   0   0   0   0\n",
      "    0   0   0   0   0   0   0   0   0   0]\n",
      " [  0   0   0   0   0   0   0   0   0   0   0   0   0   0   0   0   0   0\n",
      "    0   0   0   0   0   0   0   0   0   0]\n",
      " [  0   0   0   0   0   0   0   0   0   0   0   0   0   0   0   0   0   0\n",
      "    0   0   0   0   0   0   0   0   0   0]\n",
      " [  0   0   0   0   0   0   0   0   0   0   0   0   0   0   0   0   0   0\n",
      "    0   0   0   0   0   0   0   0   0   0]]\n"
     ]
    }
   ],
   "source": [
    "print(x_train.shape) # (60000, 28, 28)\n",
    "print(x_test.shape) # (10000, 28, 28)\n",
    "print(x_train[0].dtype) # uint8\n",
    "print(x_train[0])"
   ]
  },
  {
   "cell_type": "code",
   "execution_count": 70,
   "metadata": {},
   "outputs": [],
   "source": [
    "#フラットにする\n",
    "X_train = x_train.reshape(-1, 784)\n",
    "X_test = x_test.reshape(-1, 784)"
   ]
  },
  {
   "cell_type": "code",
   "execution_count": 71,
   "metadata": {},
   "outputs": [
    {
     "data": {
      "text/plain": [
       "(60000, 784)"
      ]
     },
     "execution_count": 71,
     "metadata": {},
     "output_type": "execute_result"
    }
   ],
   "source": [
    "X_train.shape"
   ]
  },
  {
   "cell_type": "markdown",
   "metadata": {},
   "source": [
    "各データは784次元の特徴量を持ちます。\n",
    "<br>これは28×28ピクセルの白黒画像を一列に並べた状態です。\n",
    "<br>これまで学んできた機械学習手法や、今回扱う全結合層のみのニューラルネットワークではこの形で扱います。\n",
    "<br>一列になっていることを、平滑化（flatten）してあるという風に表現します。\n",
    "<br>\n",
    "<br>補足\n",
    "<br>ここまで機械学習を学んでくる中で、特徴量の数を「次元」と呼んできました。その視点ではMNISTは784次元のデータです。\n",
    "<br>一方で、NumPyのshapeが(784,)の状態を1次元配列とも呼びます。\n",
    "<br>画像としての縦横の情報を持つ（28, 28)の状態であれば、2次元配列です。この視点では2次元のデータです。\n",
    "<br>さらに、もしもカラー画像であれば(28, 28, 3)ということになり、3次元配列です。先ほどの視点では3次元のデータになります。\n",
    "<br>しかし、白黒でもカラーでも平面画像であり、立体データではないという視点で、2次元のデータです。\n",
    "<br>画像データを扱う際にはこのように「次元」という言葉が複数の意味合いで使われることに注意してください。"
   ]
  },
  {
   "cell_type": "markdown",
   "metadata": {},
   "source": [
    "### 画像データの可視化\n",
    "次に、画像データを可視化します。\n",
    "可視化する上では、縦横の形の情報を持つ必要があるので、ndarrayのreshapeを使用して2次元配列とします。そしてplt.imshowに渡します。\n",
    "サンプルコード"
   ]
  },
  {
   "cell_type": "code",
   "execution_count": 72,
   "metadata": {},
   "outputs": [
    {
     "data": {
      "image/png": "[encoded data removed]",
      "text/plain": [
       "<Figure size 432x288 with 1 Axes>"
      ]
     },
     "metadata": {
      "needs_background": "light"
     },
     "output_type": "display_data"
    }
   ],
   "source": [
    "#可視化\n",
    "import matplotlib.pyplot as plt\n",
    "%matplotlib inline\n",
    "index = 40\n",
    "image = X_train[index].reshape(28,28)\n",
    "# X_train[index]: (784,)\n",
    "# image: (28, 28)\n",
    "plt.imshow(image, 'gray')\n",
    "plt.title('label : {}'.format(y_train[index]))\n",
    "plt.show()"
   ]
  },
  {
   "cell_type": "markdown",
   "metadata": {},
   "source": [
    "### 発展的話題\n",
    "画像データは符号なし8ビット整数のuint8型で保持されることが一般的ですが、\n",
    "<br>plt.imshowはより自由な配列を画像として表示することが可能です。\n",
    "<br>例えば、以下のようにマイナスの値を持ったfloat64型の浮動小数点であってもエラーにはならないし、先ほどと全く同じ風に表示されます。2"
   ]
  },
  {
   "cell_type": "code",
   "execution_count": 73,
   "metadata": {},
   "outputs": [
    {
     "data": {
      "image/png": "[encoded data removed]",
      "text/plain": [
       "<Figure size 432x288 with 1 Axes>"
      ]
     },
     "metadata": {
      "needs_background": "light"
     },
     "output_type": "display_data"
    },
    {
     "name": "stdout",
     "output_type": "stream",
     "text": [
      "[[-105.35 -105.35 -105.35 -105.35 -105.35 -105.35 -105.35 -105.35 -105.35\n",
      "  -105.35 -105.35 -105.35 -105.35 -105.35 -105.35 -105.35 -105.35 -105.35\n",
      "  -105.35 -105.35 -105.35 -105.35 -105.35 -105.35 -105.35 -105.35 -105.35\n",
      "  -105.35]\n",
      " [-105.35 -105.35 -105.35 -105.35 -105.35 -105.35 -105.35 -105.35 -105.35\n",
      "  -105.35 -105.35 -105.35 -105.35 -105.35 -105.35 -105.35 -105.35 -105.35\n",
      "  -105.35 -105.35 -105.35 -105.35 -105.35 -105.35 -105.35 -105.35 -105.35\n",
      "  -105.35]\n",
      " [-105.35 -105.35 -105.35 -105.35 -105.35 -105.35 -105.35 -105.35 -105.35\n",
      "  -105.35 -105.35 -105.35 -105.35 -105.35 -105.35 -105.35 -105.35 -105.35\n",
      "  -105.35 -105.35 -105.35 -105.35 -105.35 -105.35 -105.35 -105.35 -105.35\n",
      "  -105.35]\n",
      " [-105.35 -105.35 -105.35 -105.35 -105.35 -105.35 -105.35 -105.35 -105.35\n",
      "  -105.35 -105.35 -105.35 -105.35 -105.35 -105.35 -105.35 -105.35 -105.35\n",
      "  -105.35 -105.35 -105.35 -105.35 -105.35 -105.35 -105.35 -105.35 -105.35\n",
      "  -105.35]\n",
      " [-105.35 -105.35 -105.35 -105.35 -105.35 -105.35 -105.35 -105.35 -105.35\n",
      "  -105.35 -105.35 -105.35 -105.35 -105.35 -105.35 -105.35 -105.35 -105.35\n",
      "  -105.35 -105.35 -105.35 -105.35 -105.35 -105.35 -105.35 -105.35 -105.35\n",
      "  -105.35]\n",
      " [-105.35 -105.35 -105.35 -105.35 -105.35 -105.35 -105.35 -105.35 -105.35\n",
      "  -105.35 -105.35 -105.35 -102.35  -87.35  -87.35  -87.35   20.65   30.65\n",
      "    69.65  -79.35   60.65  149.65  141.65   21.65 -105.35 -105.35 -105.35\n",
      "  -105.35]\n",
      " [-105.35 -105.35 -105.35 -105.35 -105.35 -105.35 -105.35 -105.35  -75.35\n",
      "   -69.35  -11.35   48.65   64.65  147.65  147.65  147.65  147.65  147.65\n",
      "   119.65   66.65  147.65  136.65   89.65  -41.35 -105.35 -105.35 -105.35\n",
      "  -105.35]\n",
      " [-105.35 -105.35 -105.35 -105.35 -105.35 -105.35 -105.35  -56.35  132.65\n",
      "   147.65  147.65  147.65  147.65  147.65  147.65  147.65  147.65  145.65\n",
      "   -12.35  -23.35  -23.35  -49.35  -66.35 -105.35 -105.35 -105.35 -105.35\n",
      "  -105.35]\n",
      " [-105.35 -105.35 -105.35 -105.35 -105.35 -105.35 -105.35  -87.35  113.65\n",
      "   147.65  147.65  147.65  147.65  147.65   92.65   76.65  141.65  135.65\n",
      "  -105.35 -105.35 -105.35 -105.35 -105.35 -105.35 -105.35 -105.35 -105.35\n",
      "  -105.35]\n",
      " [-105.35 -105.35 -105.35 -105.35 -105.35 -105.35 -105.35 -105.35  -25.35\n",
      "    50.65    1.65  147.65  147.65   99.65  -94.35 -105.35  -62.35   48.65\n",
      "  -105.35 -105.35 -105.35 -105.35 -105.35 -105.35 -105.35 -105.35 -105.35\n",
      "  -105.35]\n",
      " [-105.35 -105.35 -105.35 -105.35 -105.35 -105.35 -105.35 -105.35 -105.35\n",
      "   -91.35 -104.35   48.65  147.65  -15.35 -105.35 -105.35 -105.35 -105.35\n",
      "  -105.35 -105.35 -105.35 -105.35 -105.35 -105.35 -105.35 -105.35 -105.35\n",
      "  -105.35]\n",
      " [-105.35 -105.35 -105.35 -105.35 -105.35 -105.35 -105.35 -105.35 -105.35\n",
      "  -105.35 -105.35   33.65  147.65   84.65 -103.35 -105.35 -105.35 -105.35\n",
      "  -105.35 -105.35 -105.35 -105.35 -105.35 -105.35 -105.35 -105.35 -105.35\n",
      "  -105.35]\n",
      " [-105.35 -105.35 -105.35 -105.35 -105.35 -105.35 -105.35 -105.35 -105.35\n",
      "  -105.35 -105.35  -94.35   84.65  147.65  -35.35 -105.35 -105.35 -105.35\n",
      "  -105.35 -105.35 -105.35 -105.35 -105.35 -105.35 -105.35 -105.35 -105.35\n",
      "  -105.35]\n",
      " [-105.35 -105.35 -105.35 -105.35 -105.35 -105.35 -105.35 -105.35 -105.35\n",
      "  -105.35 -105.35 -105.35  -70.35  135.65  119.65   54.65    2.65 -104.35\n",
      "  -105.35 -105.35 -105.35 -105.35 -105.35 -105.35 -105.35 -105.35 -105.35\n",
      "  -105.35]\n",
      " [-105.35 -105.35 -105.35 -105.35 -105.35 -105.35 -105.35 -105.35 -105.35\n",
      "  -105.35 -105.35 -105.35 -105.35  -24.35  134.65  147.65  147.65   13.65\n",
      "   -80.35 -105.35 -105.35 -105.35 -105.35 -105.35 -105.35 -105.35 -105.35\n",
      "  -105.35]\n",
      " [-105.35 -105.35 -105.35 -105.35 -105.35 -105.35 -105.35 -105.35 -105.35\n",
      "  -105.35 -105.35 -105.35 -105.35 -105.35  -60.35   80.65  147.65  147.65\n",
      "    44.65  -78.35 -105.35 -105.35 -105.35 -105.35 -105.35 -105.35 -105.35\n",
      "  -105.35]\n",
      " [-105.35 -105.35 -105.35 -105.35 -105.35 -105.35 -105.35 -105.35 -105.35\n",
      "  -105.35 -105.35 -105.35 -105.35 -105.35 -105.35  -89.35  -12.35  146.65\n",
      "   147.65   81.65 -105.35 -105.35 -105.35 -105.35 -105.35 -105.35 -105.35\n",
      "  -105.35]\n",
      " [-105.35 -105.35 -105.35 -105.35 -105.35 -105.35 -105.35 -105.35 -105.35\n",
      "  -105.35 -105.35 -105.35 -105.35 -105.35 -105.35 -105.35 -105.35  143.65\n",
      "   147.65  143.65  -41.35 -105.35 -105.35 -105.35 -105.35 -105.35 -105.35\n",
      "  -105.35]\n",
      " [-105.35 -105.35 -105.35 -105.35 -105.35 -105.35 -105.35 -105.35 -105.35\n",
      "  -105.35 -105.35 -105.35 -105.35 -105.35  -59.35   24.65   77.65  147.65\n",
      "   147.65  101.65 -103.35 -105.35 -105.35 -105.35 -105.35 -105.35 -105.35\n",
      "  -105.35]\n",
      " [-105.35 -105.35 -105.35 -105.35 -105.35 -105.35 -105.35 -105.35 -105.35\n",
      "  -105.35 -105.35 -105.35  -66.35   42.65  123.65  147.65  147.65  147.65\n",
      "   144.65   76.65 -105.35 -105.35 -105.35 -105.35 -105.35 -105.35 -105.35\n",
      "  -105.35]\n",
      " [-105.35 -105.35 -105.35 -105.35 -105.35 -105.35 -105.35 -105.35 -105.35\n",
      "  -105.35  -81.35    8.65  115.65  147.65  147.65  147.65  147.65   95.65\n",
      "   -27.35 -105.35 -105.35 -105.35 -105.35 -105.35 -105.35 -105.35 -105.35\n",
      "  -105.35]\n",
      " [-105.35 -105.35 -105.35 -105.35 -105.35 -105.35 -105.35 -105.35  -82.35\n",
      "   -39.35  107.65  147.65  147.65  147.65  147.65   92.65  -24.35 -103.35\n",
      "  -105.35 -105.35 -105.35 -105.35 -105.35 -105.35 -105.35 -105.35 -105.35\n",
      "  -105.35]\n",
      " [-105.35 -105.35 -105.35 -105.35 -105.35 -105.35  -87.35   65.65  113.65\n",
      "   147.65  147.65  147.65  147.65   89.65  -25.35  -96.35 -105.35 -105.35\n",
      "  -105.35 -105.35 -105.35 -105.35 -105.35 -105.35 -105.35 -105.35 -105.35\n",
      "  -105.35]\n",
      " [-105.35 -105.35 -105.35 -105.35  -50.35   66.65  120.65  147.65  147.65\n",
      "   147.65  147.65  138.65   27.65  -94.35 -105.35 -105.35 -105.35 -105.35\n",
      "  -105.35 -105.35 -105.35 -105.35 -105.35 -105.35 -105.35 -105.35 -105.35\n",
      "  -105.35]\n",
      " [-105.35 -105.35 -105.35 -105.35   30.65  147.65  147.65  147.65  106.65\n",
      "    29.65   26.65  -89.35 -105.35 -105.35 -105.35 -105.35 -105.35 -105.35\n",
      "  -105.35 -105.35 -105.35 -105.35 -105.35 -105.35 -105.35 -105.35 -105.35\n",
      "  -105.35]\n",
      " [-105.35 -105.35 -105.35 -105.35 -105.35 -105.35 -105.35 -105.35 -105.35\n",
      "  -105.35 -105.35 -105.35 -105.35 -105.35 -105.35 -105.35 -105.35 -105.35\n",
      "  -105.35 -105.35 -105.35 -105.35 -105.35 -105.35 -105.35 -105.35 -105.35\n",
      "  -105.35]\n",
      " [-105.35 -105.35 -105.35 -105.35 -105.35 -105.35 -105.35 -105.35 -105.35\n",
      "  -105.35 -105.35 -105.35 -105.35 -105.35 -105.35 -105.35 -105.35 -105.35\n",
      "  -105.35 -105.35 -105.35 -105.35 -105.35 -105.35 -105.35 -105.35 -105.35\n",
      "  -105.35]\n",
      " [-105.35 -105.35 -105.35 -105.35 -105.35 -105.35 -105.35 -105.35 -105.35\n",
      "  -105.35 -105.35 -105.35 -105.35 -105.35 -105.35 -105.35 -105.35 -105.35\n",
      "  -105.35 -105.35 -105.35 -105.35 -105.35 -105.35 -105.35 -105.35 -105.35\n",
      "  -105.35]]\n"
     ]
    }
   ],
   "source": [
    "index = 0\n",
    "image = X_train[index].reshape(28,28)\n",
    "image = image.astype(np.float) # float型に変換\n",
    "image -= 105.35 # 意図的に負の小数値を作り出してみる\n",
    "plt.imshow(image, 'gray')\n",
    "plt.title('label : {}'.format(y_train[index]))\n",
    "plt.show()\n",
    "print(image) # 値を確認"
   ]
  },
  {
   "cell_type": "markdown",
   "metadata": {},
   "source": [
    "これは、自動的に値を0〜255の整数に変換して処理するように作られているからです。uint8型であっても最小値が0、最大値が255でない場合には色合いがおかしくなります。それを防ぐためには次のように引数を入れてください。"
   ]
  },
  {
   "cell_type": "code",
   "execution_count": 74,
   "metadata": {},
   "outputs": [
    {
     "data": {
      "text/plain": [
       "<matplotlib.image.AxesImage at 0xb518a85f8>"
      ]
     },
     "execution_count": 74,
     "metadata": {},
     "output_type": "execute_result"
    },
    {
     "data": {
      "image/png": "[encoded data removed]",
      "text/plain": [
       "<Figure size 432x288 with 1 Axes>"
      ]
     },
     "metadata": {
      "needs_background": "light"
     },
     "output_type": "display_data"
    }
   ],
   "source": [
    "plt.imshow(image, 'gray', vmin = 0, vmax = 255)"
   ]
  },
  {
   "cell_type": "markdown",
   "metadata": {},
   "source": [
    "画像関係のライブラリではこの自動的なスケーリングが思わぬ結果を生むことがあるので、新しいメソッドを使うときには確認しておきましょう。"
   ]
  },
  {
   "cell_type": "markdown",
   "metadata": {},
   "source": [
    "### 前処理\n",
    "画像は0から255のuint8型で表されますが、機械学習をする上では0から1のfloat型で扱うことになります。\n",
    "<br>色は理想的には連続値であり、それを特徴量とするからです。以下のコードで変換可能です。"
   ]
  },
  {
   "cell_type": "code",
   "execution_count": 75,
   "metadata": {},
   "outputs": [
    {
     "name": "stdout",
     "output_type": "stream",
     "text": [
      "1.0\n",
      "0.0\n"
     ]
    }
   ],
   "source": [
    "X_train = X_train.astype(np.float)\n",
    "X_test = X_test.astype(np.float)\n",
    "X_train /= 255\n",
    "X_test /= 255\n",
    "print(X_train.max()) # 1.0\n",
    "print(X_train.min()) # 0.0"
   ]
  },
  {
   "cell_type": "markdown",
   "metadata": {},
   "source": [
    "また、正解ラベルは0から9の整数ですが、ニューラルネットワークで多クラス分類を行う際にはone-hot表現に変換します。scikit-learnのOneHotEncoderを使用したコードが以下です。このone-hot表現による値はそのラベルである確率を示していることになるため、float型で扱います。\n",
    "サンプルコード"
   ]
  },
  {
   "cell_type": "code",
   "execution_count": 76,
   "metadata": {},
   "outputs": [
    {
     "name": "stdout",
     "output_type": "stream",
     "text": [
      "(60000,)\n",
      "(60000, 10)\n",
      "float64\n"
     ]
    }
   ],
   "source": [
    "from sklearn.preprocessing import OneHotEncoder\n",
    "enc = OneHotEncoder(handle_unknown='ignore', sparse=False)\n",
    "y_train_one_hot = enc.fit_transform(y_train[:, np.newaxis])\n",
    "y_test_one_hot = enc.transform(y_test[:, np.newaxis])\n",
    "print(y_train.shape) # (60000,)\n",
    "print(y_train_one_hot.shape) # (60000, 10)\n",
    "print(y_train_one_hot.dtype) # float64"
   ]
  },
  {
   "cell_type": "markdown",
   "metadata": {},
   "source": [
    "sklearn.preprocessing.OneHotEncoder — scikit-learn 0.20.0 documentation\n",
    "さらに、学習用データ6万枚の内2割を検証用データとして分割してください。学習用データが48000枚、検証用データが12000枚となります。\n",
    "サンプルコード"
   ]
  },
  {
   "cell_type": "code",
   "execution_count": 77,
   "metadata": {},
   "outputs": [
    {
     "name": "stdout",
     "output_type": "stream",
     "text": [
      "(48000, 784)\n",
      "(12000, 784)\n"
     ]
    }
   ],
   "source": [
    "X_train, X_val, y_train, y_val = train_test_split(X_train, y_train_one_hot, test_size=0.2)\n",
    "print(X_train.shape) # (48000, 784)\n",
    "print(X_val.shape) # (12000, 784)"
   ]
  },
  {
   "cell_type": "markdown",
   "metadata": {},
   "source": [
    "### 【問題1】ニューラルネットワーク分類器のクラスを作成\n",
    "ニューラルネットワーク分類器のクラスScratchSimpleNeuralNetrowkClassifierを作成してください。\n",
    "<br>以下が雛形です。基本的な構成は機械学習編の線形回帰やロジスティック回帰などと同様です。\n",
    "<br>雛形"
   ]
  },
  {
   "cell_type": "code",
   "execution_count": 78,
   "metadata": {},
   "outputs": [],
   "source": [
    "class GetMiniBatch:\n",
    "    \"\"\"\n",
    "    ミニバッチを取得するイテレータ\n",
    "\n",
    "    Parameters\n",
    "    ----------\n",
    "    X : 次の形のndarray, shape (n_samples, n_features)\n",
    "      学習データ\n",
    "    y : 次の形のndarray, shape (n_samples, 1)\n",
    "      正解値\n",
    "    batch_size : int\n",
    "      バッチサイズ\n",
    "    seed : int\n",
    "      NumPyの乱数のシード\n",
    "    \"\"\"\n",
    "    def __init__(self, X, y, batch_size = 10, seed=0):\n",
    "        self.batch_size = batch_size\n",
    "        np.random.seed(seed)\n",
    "        shuffle_index = np.random.permutation(np.arange(X.shape[0]))\n",
    "        self.X = X[shuffle_index]\n",
    "        self.y = y[shuffle_index]\n",
    "        self._stop = np.ceil(X.shape[0]/self.batch_size).astype(np.int)\n",
    "\n",
    "    def __len__(self):\n",
    "        return self._stop\n",
    "\n",
    "    def __getitem__(self,item):\n",
    "        p0 = item*self.batch_size\n",
    "        p1 = item*self.batch_size + self.batch_size\n",
    "        return self.X[p0:p1], self.y[p0:p1]        \n",
    "\n",
    "    def __iter__(self):\n",
    "        self._counter = 0\n",
    "        return self\n",
    "\n",
    "    def __next__(self):\n",
    "        if self._counter >= self._stop:\n",
    "            raise StopIteration()\n",
    "        p0 = self._counter*self.batch_size\n",
    "        p1 = self._counter*self.batch_size + self.batch_size\n",
    "        self._counter += 1\n",
    "        return self.X[p0:p1], self.y[p0:p1]"
   ]
  },
  {
   "cell_type": "code",
   "execution_count": 79,
   "metadata": {},
   "outputs": [
    {
     "name": "stdout",
     "output_type": "stream",
     "text": [
      "4800\n",
      "(array([[0., 0., 0., ..., 0., 0., 0.],\n",
      "       [0., 0., 0., ..., 0., 0., 0.],\n",
      "       [0., 0., 0., ..., 0., 0., 0.],\n",
      "       ...,\n",
      "       [0., 0., 0., ..., 0., 0., 0.],\n",
      "       [0., 0., 0., ..., 0., 0., 0.],\n",
      "       [0., 0., 0., ..., 0., 0., 0.]]), array([[0., 0., 0., 0., 0., 0., 0., 1., 0., 0.],\n",
      "       [0., 1., 0., 0., 0., 0., 0., 0., 0., 0.],\n",
      "       [0., 0., 0., 0., 0., 0., 0., 1., 0., 0.],\n",
      "       [0., 1., 0., 0., 0., 0., 0., 0., 0., 0.],\n",
      "       [0., 0., 0., 0., 0., 0., 0., 1., 0., 0.],\n",
      "       [0., 0., 1., 0., 0., 0., 0., 0., 0., 0.],\n",
      "       [0., 0., 0., 0., 0., 0., 0., 1., 0., 0.],\n",
      "       [0., 0., 0., 0., 0., 0., 1., 0., 0., 0.],\n",
      "       [0., 0., 0., 0., 0., 1., 0., 0., 0., 0.],\n",
      "       [0., 1., 0., 0., 0., 0., 0., 0., 0., 0.]]))\n"
     ]
    }
   ],
   "source": [
    "# test the batch\n",
    "get_mini_batch = GetMiniBatch(X_train, y_train, batch_size=10)\n",
    "print(len(get_mini_batch)) # 4800\n",
    "print(get_mini_batch[5])"
   ]
  },
  {
   "cell_type": "code",
   "execution_count": 94,
   "metadata": {},
   "outputs": [],
   "source": [
    "import numpy as np\n",
    "import seaborn as sns\n",
    "from sklearn.metrics import accuracy_score\n",
    "import matplotlib.pyplot as plt\n",
    "%matplotlib inline\n",
    "\n",
    "import math\n",
    "\n",
    "class ScratchSimpleNeuralNetrowkClassifier():\n",
    "    \"\"\"\n",
    "    シンプルな三層ニューラルネットワーク分類器\n",
    "    Parameters\n",
    "    ----------\n",
    "    num_epoc : int\n",
    "      エポック数\n",
    "    lr : float\n",
    "      学習率\n",
    "    no_bias : bool\n",
    "      バイアス項を入れない場合はTrue\n",
    "    verbose : bool\n",
    "      学習過程を出力する場合はTrue\n",
    "\n",
    "    Attributes\n",
    "    ----------\n",
    "    self.coef_ : 次の形のndarray, shape (n_features,)\n",
    "      パラメータ\n",
    "    self.loss : 次の形のndarray, shape (self.epoc,)\n",
    "      学習用データに対する損失の記録\n",
    "    self.val_loss : 次の形のndarray, shape (self.epoc,)\n",
    "      検証用データに対する損失の記録\n",
    "    \"\"\"\n",
    "\n",
    "    def __init__(self, num_epoc=40, lr=0.01, bias=True, verbose=True, batch_size=10, n_features=784, n_nodes1=400, n_nodes2=200, n_output=10, sigma=0.01, metrics=\"acc\"):\n",
    "        # ハイパーパラメータを属性として記録\n",
    "        self.num_epoc = num_epoc\n",
    "        self.lr = lr\n",
    "        self.verbose = verbose\n",
    "        self.batch_size = batch_size # バッチサイズ\n",
    "        self.n_features = n_features # 特徴量の数\n",
    "        self.n_nodes1 = n_nodes1 # 1層目のノード数\n",
    "        self.n_nodes2 = n_nodes2 # 2層目のノード数\n",
    "        self.n_output = n_output # 出力のクラス数（3層目のノード数）\n",
    "        self.sigma = sigma # ガウス分布の標準偏差\n",
    "        self.metrics = metrics\n",
    "        \n",
    "        #  parameterの更新\n",
    "        self.W1 = sigma*np.random.randn(n_features, n_nodes1)\n",
    "        self.b1 = sigma*np.random.randn(1, n_nodes1)\n",
    "        self.W2 = sigma*np.random.randn(n_nodes1, n_nodes2)\n",
    "        self.b2 = sigma*np.random.randn(1, n_nodes2) \n",
    "        self.W3 = sigma*np.random.randn(n_nodes2, n_output)\n",
    "        self.b3 = sigma*np.random.randn(1, n_output) \n",
    "        \n",
    "        # lossを記録する配列を用意\n",
    "        self.train_loss = np.zeros(self.num_epoc)\n",
    "        self.val_loss = np.zeros(self.num_epoc)\n",
    "\n",
    "    def fit(self, X, y, X_val=None, y_val=None):\n",
    "        \"\"\"\n",
    "        ニューラルネットワーク分類器を学習する。\n",
    "\n",
    "        Parameters\n",
    "        ----------\n",
    "        X : 次の形のndarray, shape (n_samples, n_features)\n",
    "            学習用データの特徴量\n",
    "        y : 次の形のndarray, shape (n_samples, )\n",
    "            学習用データの正解値\n",
    "        X_val : 次の形のndarray, shape (n_samples, n_features)\n",
    "            検証用データの特徴量\n",
    "        y_val : 次の形のndarray, shape (n_samples, )\n",
    "            検証用データの正解値\n",
    "        \"\"\"\n",
    "        if y.ndim == 1:\n",
    "            y = y[:, np.newaxis]\n",
    "        \n",
    "        if np.any(y_val):\n",
    "            if y_val.ndim == 1:\n",
    "                y_val = y_val[:, np.newaxis]\n",
    "        \n",
    "       # 以下をニューラルネットワークのクラス内で呼び出す\n",
    "        get_mini_batch = GetMiniBatch(X, y, batch_size=self.batch_size)\n",
    "        \n",
    "        for i in  range(self.num_epoc):\n",
    "            for mini_X_train, mini_y_train in get_mini_batch:\n",
    "                # FP\n",
    "                a1 = np.dot(mini_X_train, self.W1) + self.b1\n",
    "                z1 = np.tanh(a1)\n",
    "                a2 = np.dot(z1, self.W2) + self.b2\n",
    "                z2 = np.tanh(a2)\n",
    "                a3 = np.dot(z2, self.W3) + self.b3\n",
    "                z3 = self._softmax(a3)\n",
    "                \n",
    "                loss = self._cross_entropy(z3, mini_y_train)\n",
    "                \n",
    "                # BP\n",
    "                a3 =  z3 - mini_y_train\n",
    "                 # 3層目\n",
    "                z2_L = np.dot(a3, self.W3.T)\n",
    "                self.W3 -= self.lr * np.dot(z2.T, a3)\n",
    "                self.b3 -= self.lr * np.mean(a3, axis=0)\n",
    "\n",
    "                # ２層目\n",
    "                a2_L = z2_L  *  (1 - z2**2)\n",
    "                z1_L = np.dot(a2_L,  self.W2.T)\n",
    "                self.W2 -= self.lr * np.dot(z1.T, a2_L)\n",
    "                self.b2 -= self.lr * np.mean(a2_L, axis=0)\n",
    "                \n",
    "                # １層目\n",
    "                a1_L = z1_L * (1 - z1**2)\n",
    "                self.W1 -= self.lr * np.dot(mini_X_train.T, a1_L)\n",
    "                self.b1 -= self.lr * np.mean(a1_L, axis=0)\n",
    "            \n",
    "            #評価値\n",
    "            train_pred = self._hypothesis(X)\n",
    "            self.train_loss[i] = self._cross_entropy(train_pred, y)\n",
    "            \n",
    "            if np.any(X_val):\n",
    "                val_pred = self._hypothesis(X_val)\n",
    "                self.val_loss[i] = self._cross_entropy(val_pred, y_val)\n",
    "                acc = accuracy_score(np.argmax(y_val, axis=1), np.argmax(val_pred, axis=1))\n",
    "                      \n",
    "                if self.verbose:\n",
    "                    print(\"epoch:{0} train_loss: {1} val_loss: {2} {3}: {4}\".format(i+1, self.train_loss[i], self.val_loss[i], self.metrics, acc))\n",
    "                    \n",
    "            else:\n",
    "                if self.verbose:\n",
    "                      print(\"epoch:{0} loss: {1}\".format(i+1, self.train_loss[i]))   \n",
    "    \n",
    "    def _hypothesis(self, X):\n",
    "        a1 = np.dot(X, self.W1) + self.b1\n",
    "        z1 = np.tanh(a1)\n",
    "        a2 = np.dot(z1, self.W2) + self.b2\n",
    "        z2 = np.tanh(a2)\n",
    "        a3 = np.dot(z2, self.W3) + self.b3\n",
    "        z3 = self._softmax(a3)\n",
    "        return z3\n",
    "    \n",
    "    def _softmax(self, z):\n",
    "        c = np.max(z)\n",
    "        z = z - c\n",
    "        ex = np.exp(z)\n",
    "        return ex / (np.sum(ex, axis=1))[:, np.newaxis]\n",
    "        \n",
    "    def _sigmoid(self, z):\n",
    "        e = math.e\n",
    "        return 1/(1+(e**-z))\n",
    "\n",
    "       \n",
    "    def predict(self, X):\n",
    "        \"\"\"\n",
    "        ニューラルネットワーク分類器を使い推定する。\n",
    "\n",
    "        Parameters\n",
    "        ----------\n",
    "        X : 次の形のndarray, shape (n_samples, n_features)\n",
    "            サンプル\n",
    "\n",
    "        Returns\n",
    "        -------\n",
    "        次の形のndarray, shape (n_samples, 1)\n",
    "        推定結果\n",
    "        \"\"\"\n",
    "        a1 = np.dot(X, self.W1) + self.b1\n",
    "        z1 = np.tanh(a1)\n",
    "        a2 = np.dot(z1, self.W2) + self.b2\n",
    "        z2 = np.tanh(a2)\n",
    "        a3 = np.dot(z2, self.W3) + self.b3\n",
    "        \n",
    "        z3 = self._softmax(a3)\n",
    "\n",
    "        return z3\n",
    "        \n",
    "    def _cross_entropy(self,z, y):\n",
    "        \n",
    "        return - sum(sum(y * np.log(z))) / len(y)\n",
    "    \n",
    "    def plot_learning_curve(self):\n",
    "        \"\"\"\n",
    "        学習曲線をプロットします。\n",
    "\n",
    "        loss : array\n",
    "        一回ごとの勾配降下方のロスのログ(train)\n",
    "         val_los : array\n",
    "        一回ごとの勾配降下方のロスのログ(val or test)\n",
    "        \"\"\"\n",
    "        plt.figure(figsize=(6, 6))\n",
    "        plt.xlabel(\"epoch\")\n",
    "        plt.ylabel(\"loss\")\n",
    "        plt.title(\"model_loss\")\n",
    "        plt.plot(self.train_loss, label=\"train_loss\")\n",
    "        plt.plot(self.val_loss, label=\"val_loss\")\n",
    "        plt.legend()\n",
    "    \n",
    "    def _plot_wrong_image(self, X, y, y_pred):\n",
    "        #まちがえている画像をプロットします\n",
    "        num = 36 # いくつ表示するか\n",
    "\n",
    "        true_false = y_pred == y\n",
    "        false_list = np.where(true_false==False)[0].astype(np.int)\n",
    "\n",
    "        if false_list.shape[0] < num:\n",
    "            num = false_list.shape[0]\n",
    "        fig = plt.figure(figsize=(6, 6))\n",
    "        fig.subplots_adjust(left=0, right=0.8,  bottom=0, top=0.8, hspace=1, wspace=0.5)\n",
    "        for i in range(num):\n",
    "            ax = fig.add_subplot(6, 6, i + 1, xticks=[], yticks=[])\n",
    "            ax.set_title(\"{} / {}\".format(y_pred[false_list[i]],y[false_list[i]]))\n",
    "            ax.imshow(X.reshape(-1,28,28)[false_list[i]], cmap='gray')\n",
    "    "
   ]
  },
  {
   "cell_type": "code",
   "execution_count": 87,
   "metadata": {},
   "outputs": [],
   "source": [
    "# 小宮さん\n",
    "# import numpy as np\n",
    "# from sklearn.metrics import accuracy_score\n",
    "# import matplotlib.pyplot as plt\n",
    "# %matplotlib inline\n",
    "\n",
    "# class ScratchSimpleNeuralNetrowkClassifier():\n",
    "#     \"\"\"\n",
    "#     シンプルな三層ニューラルネットワーク分類器\n",
    "\n",
    "#     Parameters\n",
    "#     ----------\n",
    "#     alpha : float\n",
    "#         学習率\n",
    "#     varbose : bool\n",
    "#         学習過程の表示\n",
    "#     batch_size : int\n",
    "#         １つのバッチのサンプル数\n",
    "#     epoch : int\n",
    "#         エポック数\n",
    "#     metrics : str\n",
    "#         評価指標の選択\n",
    "#         acc = accuracy\n",
    "        \n",
    "#     Attributes\n",
    "#     ----------\n",
    "#     train_loss : ndarray, shape(epoch, )\n",
    "#         トレインデータのlossを格納していく\n",
    "#     val_loss : ndarray, shape(epoch, )\n",
    "#         valデータのlossを格納していく    \n",
    "#     W1 : ndarray, shape(n_features, n_nodes1)\n",
    "#     W2 : ndarray, shape(n_nodes1, n_nodes2)\n",
    "#     W3 : ndarray, shape(n_nodes2, n_nodes3)\n",
    "#         重み\n",
    "#     b1 : ndarray, shape(1, n_nodes1)\n",
    "#     b2 : ndarray, shape(1, n_nodes2)\n",
    "#     b3 : ndarray, shape(1, n_nodes3)\n",
    "#         バイアス\n",
    "#     \"\"\"\n",
    "\n",
    "#     def __init__(self, alpha=0.001, verbose=True, batch_size=50, epoch=10, metrics=\"acc\"):\n",
    "#         self.verbose = verbose\n",
    "#         self.alpha = alpha\n",
    "#         self.batch_size = batch_size\n",
    "#         self.epoch = epoch\n",
    "#         self.metrics = metrics\n",
    "#         self.train_loss = np.zeros(epoch)\n",
    "#         self.val_loss = np.zeros(epoch)\n",
    "#         self.W1 = 0\n",
    "#         self.W2 = 0\n",
    "#         self.W3 = 0\n",
    "#         self.b1 = 0\n",
    "#         self.b2 = 0\n",
    "#         self.b3 = 0\n",
    "        \n",
    "#     def fit(self, X, y, X_val=None, y_val=None, alpha=0.001):\n",
    "#         \"\"\"\n",
    "#         ニューラルネットワーク分類器を学習する。\n",
    "\n",
    "#         Parameters\n",
    "#         ----------\n",
    "#         X : 次の形のndarray, shape (n_samples, n_features)\n",
    "#             学習用データの特徴量\n",
    "#         y : 次の形のndarray, shape (n_samples, )\n",
    "#             学習用データの正解値\n",
    "#         X_val : 次の形のndarray, shape (n_samples, n_features)\n",
    "#             検証用データの特徴量\n",
    "#         y_val : 次の形のndarray, shape (n_samples, )\n",
    "#             検証用データの正解値\n",
    "#         \"\"\"\n",
    "        \n",
    "#         if y.ndim == 1:\n",
    "#             y = y[:, np.newaxis]\n",
    "        \n",
    "#         if np.any(y_val):\n",
    "#             if y_val.ndim == 1:\n",
    "#                 y_val = y_val[:, np.newaxis]\n",
    "        \n",
    "#         #バイアスの追加\n",
    "#         #m = len(X)\n",
    "#         #X= np.hstack(np.onez(m).reshape(m,1), X)\n",
    "        \n",
    "#         #wの初期化\n",
    "#         n_features = X.shape[1]\n",
    "#         n_nodes1 = 400\n",
    "#         sigma = 0.01 # ガウス分布の標準偏差\n",
    "#         self.W1 = sigma * np.random.randn(n_features, n_nodes1)\n",
    "#         self.b1 =  sigma * np.random.randn(1, n_nodes1)\n",
    "        \n",
    "#         n_nodes2 = 200\n",
    "#         self.W2 = sigma * np.random.randn(n_nodes1, n_nodes2) #shape(該当するレイヤーのノード数, 次のレイヤーのノード数)\n",
    "#         self.b2 = sigma * np.random.randn(1, n_nodes2) \n",
    "        \n",
    "#         n_nodes3 = 10\n",
    "#         self.W3 = sigma * np.random.randn(n_nodes2, n_nodes3) #shape(該当するレイヤーのノード数, 次のレイヤーのノード数)\n",
    "#         self.b3 = sigma * np.random.randn(1, n_nodes3) \n",
    "        \n",
    "#         for i in range(self.epoch):\n",
    "\n",
    "#             #バッチ作成\n",
    "#             get_mini_batch = GetMiniBatch(X, y, batch_size=self.batch_size, seed=0)\n",
    "\n",
    "#             for mini_X_train, mini_y_train in get_mini_batch:\n",
    "#                 # このfor文内でミニバッチが使える\n",
    "#                 #FP\n",
    "#                 a1 = np.dot(mini_X_train, self.W1) + self.b1\n",
    "#                 #z1 = self._sigmoid(a1)\n",
    "#                 z1 = self._tanh(a1)\n",
    "#                 a2 = np.dot(z1, self.W2) + self.b2\n",
    "#                 #z2 = self._sigmoid(a2)\n",
    "#                 z2 = self._tanh(a2)\n",
    "#                 a3 = np.dot(z2, self.W3) + self.b3\n",
    "#                 z3 = self._soft_max(a3)\n",
    "                \n",
    "#                 loss = self._cross_entropy_loss(z3, mini_y_train)\n",
    "#                 #print(loss)\n",
    "\n",
    "#                 #BP\n",
    "#                 a3_L = z3 - mini_y_train\n",
    "#                 z2_L = np.dot(a3_L, self.W3.T) #shape(サンプル数、レイヤー2のユニット数）\n",
    "#                 self.W3 = self.W3 - self.alpha * np.dot(z2.T, a3_L)\n",
    "#                 self.b3 = self.b3 - self.alpha * np.mean(a3_L, axis=0)\n",
    "\n",
    "#                 #sigmoid \n",
    "#                 #a2_L = z2_L  *  (1 - z2) * z2  #shape(サンプル数、レイヤー2のユニット数）\n",
    "#                 #tanh\n",
    "#                 a2_L = z2_L  *  (1 - z2**2) #shape(サンプル数、レイヤー2のユニット数）\n",
    "#                 z1_L = np.dot(a2_L,  self.W2.T)   #shape(サンプル数、レイヤー1のユニット数）\n",
    "#                 self.W2 = self.W2 - self.alpha * np.dot(z1.T, a2_L)\n",
    "#                 self.b2 = self.b2 - self.alpha * np.mean(a2_L, axis=0)\n",
    "\n",
    "#                 #sigmoid\n",
    "#                 #a1_L = z1_L * (1 - z1) * z1 #shape(サンプル数、レイヤー1のユニット数）\n",
    "#                 #tanh\n",
    "#                 a1_L = z1_L * (1 - z1**2) #shape(サンプル数、レイヤー1のユニット数）\n",
    "#                 self.W1 = self.W1 - self.alpha * np.dot(mini_X_train.T, a1_L)\n",
    "#                 self.b1 = self.b1 - self.alpha * np.mean(a1_L, axis=0)\n",
    "            \n",
    "#             #評価値の表示\n",
    "#             train_pred = self._hypothesis(X)\n",
    "#             self.train_loss[i] = self._cross_entropy_loss(train_pred, y)\n",
    "            \n",
    "#             if np.any(X_val):\n",
    "#                 val_pred = self._hypothesis(X_val)\n",
    "#                 self.val_loss[i] = self._cross_entropy_loss(val_pred, y_val)\n",
    "#                 met = self.accuracy(np.argmax(y_val, axis=1), np.argmax(val_pred, axis=1))\n",
    "                      \n",
    "#                 if self.verbose:\n",
    "#                     print(\"epoch:{0} train_loss: {1} val_loss: {2} {3}: {4}\".format(i+1, self.train_loss[i], self.val_loss[i], self.metrics, met))\n",
    "                    \n",
    "#             else:\n",
    "#                 if self.verbose:\n",
    "#                       print(\"epoch:{0} loss: {1}\".format(i+1, self.train_loss[i]))\n",
    "                            \n",
    "                \n",
    "#     def _hypothesis(self, X):\n",
    "        \n",
    "#         a1 = np.dot(X, self.W1) + self.b1\n",
    "#         #z1 = self._sigmoid(a1)\n",
    "#         z1 = self._tanh(a1)\n",
    "#         a2 = np.dot(z1, self.W2) + self.b2\n",
    "#         #z2 = self._sigmoid(a2)\n",
    "#         z2 = self._tanh(a2)\n",
    "#         a3 = np.dot(z2, self.W3) + self.b3\n",
    "#         z3 = self._soft_max(a3)\n",
    "        \n",
    "#         return z3\n",
    "\n",
    "#     def predict(self, X):\n",
    "#         \"\"\"\n",
    "#         ニューラルネットワーク分類器を使い推定する。\n",
    "\n",
    "#         Parameters\n",
    "#         ----------\n",
    "#         X : 次の形のndarray, shape (n_samples, n_features)\n",
    "#             サンプル\n",
    "\n",
    "#         Returns\n",
    "#         -------\n",
    "#             次の形のndarray, shape (n_samples, 1)\n",
    "#             推定結果\n",
    "#         \"\"\"\n",
    "        \n",
    "#         h = self._hypothesis(X)\n",
    "#         return np.argmax(h, axis=1)\n",
    "    \n",
    "#     def _sigmoid(self, z):\n",
    "        \n",
    "#         return 1 / (1 + np.exp(-z))\n",
    "    \n",
    "#     def _tanh(self, z):\n",
    "        \n",
    "#         return np.tanh(z)\n",
    "    \n",
    "#     def _soft_max(self, z):\n",
    "        \n",
    "#         c = np.max(z)\n",
    "#         z = z - c\n",
    "#         ex = np.exp(z)\n",
    "#         #print(np.sum(ex / (np.sum(ex, axis=1)).reshape(len(z), 1), axis=1))\n",
    "#         return ex / (np.sum(ex, axis=1))[:, np.newaxis]\n",
    "    \n",
    "#     def softmax(self, x):\n",
    "#         if x.ndim == 2:\n",
    "#             x = x.T\n",
    "#             x = x - np.max(x, axis=0)\n",
    "#             y = np.exp(x) / np.sum(np.exp(x), axis=0)\n",
    "#             print(np.sum(y.T, axis=1))\n",
    "#             return y.T\n",
    "\n",
    "#         x = x - np.max(x)\n",
    "#         print(np.exp(x) / np.sum(np.exp(x)))\n",
    "#         return np.exp(x) / np.sum(np.exp(x))\n",
    "    \n",
    "#     def _cross_entropy_loss(self,z, y):\n",
    "        \n",
    "#         return - sum(sum(y * np.log(z))) / len(y)\n",
    "    \n",
    "#     def plot_learning_curve(self):\n",
    "#         \"\"\"\n",
    "#         学習曲線をプロットします。\n",
    "\n",
    "#         loss : array\n",
    "#         一回ごとの勾配降下方のロスのログ(train)\n",
    "#          val_los : array\n",
    "#         一回ごとの勾配降下方のロスのログ(val or test)\n",
    "#         \"\"\"\n",
    "#         plt.figure(figsize=(8, 5))\n",
    "#         plt.title(\"model_loss\")\n",
    "#         plt.xlabel(\"epoch\")\n",
    "#         plt.ylabel(\"loss\")\n",
    "#         plt.plot(self.train_loss, label=\"train_loss\")\n",
    "#         plt.plot(self.val_loss, label=\"val_loss\")\n",
    "#         #plt.yscale(\"log\")\n",
    "#         plt.legend()\n",
    "        \n",
    "#     def accuracy(self, y, y_pred):\n",
    "#         # accuracyを計算して返す\n",
    "#         return accuracy_score(y, y_pred)\n",
    "    \n",
    "    \n",
    "#     def _plot_wrong_image(self, X, y, y_pred):\n",
    "#         #まちがえている画像をプロットします\n",
    "        \n",
    "#         num = 36 # いくつ表示するか\n",
    "\n",
    "#         true_false = y_pred == y\n",
    "#         false_list = np.where(true_false==False)[0].astype(np.int)\n",
    "\n",
    "#         if false_list.shape[0] < num:\n",
    "#             num = false_list.shape[0]\n",
    "#         fig = plt.figure(figsize=(6, 6))\n",
    "#         fig.subplots_adjust(left=0, right=0.8,  bottom=0, top=0.8, hspace=1, wspace=0.5)\n",
    "#         for i in range(num):\n",
    "#             ax = fig.add_subplot(6, 6, i + 1, xticks=[], yticks=[])\n",
    "#             ax.set_title(\"{} / {}\".format(y_pred[false_list[i]],y[false_list[i]]))\n",
    "#             ax.imshow(X.reshape(-1,28,28)[false_list[i]], cmap='gray')"
   ]
  },
  {
   "cell_type": "code",
   "execution_count": 88,
   "metadata": {},
   "outputs": [],
   "source": [
    "model = ScratchSimpleNeuralNetrowkClassifier()"
   ]
  },
  {
   "cell_type": "code",
   "execution_count": 89,
   "metadata": {
    "scrolled": false
   },
   "outputs": [
    {
     "name": "stdout",
     "output_type": "stream",
     "text": [
      "epoch:1 train_loss: 0.4190225829945011 val_loss: 0.4056749498510119 acc: 0.8811666666666667\n",
      "epoch:2 train_loss: 0.32415658201775105 val_loss: 0.314741561766517 acc: 0.9084166666666667\n",
      "epoch:3 train_loss: 0.27983871483552153 val_loss: 0.27492854887334206 acc: 0.9185833333333333\n",
      "epoch:4 train_loss: 0.24445013215151365 val_loss: 0.243430612290257 acc: 0.9278333333333333\n",
      "epoch:5 train_loss: 0.21332151323708237 val_loss: 0.2159270371989644 acc: 0.9361666666666667\n",
      "epoch:6 train_loss: 0.18647558478591372 val_loss: 0.1928310292944434 acc: 0.943\n",
      "epoch:7 train_loss: 0.16424273108536244 val_loss: 0.17419070447338386 acc: 0.9469166666666666\n",
      "epoch:8 train_loss: 0.1457390358604898 val_loss: 0.15893551949883855 acc: 0.9520833333333333\n",
      "epoch:9 train_loss: 0.13026303161804756 val_loss: 0.14639778891570424 acc: 0.9556666666666667\n",
      "epoch:10 train_loss: 0.11729864622706722 val_loss: 0.1362095113458116 acc: 0.9584166666666667\n"
     ]
    }
   ],
   "source": [
    "model.fit(X_train, y_train, X_val, y_val)"
   ]
  },
  {
   "cell_type": "code",
   "execution_count": 90,
   "metadata": {},
   "outputs": [],
   "source": [
    "y_pred = model.predict(X_test)"
   ]
  },
  {
   "cell_type": "code",
   "execution_count": 91,
   "metadata": {},
   "outputs": [
    {
     "data": {
      "image/png": "[encoded data removed]",
      "text/plain": [
       "<Figure size 576x360 with 1 Axes>"
      ]
     },
     "metadata": {
      "needs_background": "light"
     },
     "output_type": "display_data"
    }
   ],
   "source": [
    "model.plot_learning_curve()"
   ]
  },
  {
   "cell_type": "code",
   "execution_count": 93,
   "metadata": {},
   "outputs": [
    {
     "data": {
      "image/png": "[encoded data removed]",
      "text/plain": [
       "<Figure size 432x432 with 36 Axes>"
      ]
     },
     "metadata": {},
     "output_type": "display_data"
    }
   ],
   "source": [
    "\"\"\"\n",
    "誤分類結果を並べて表示する。画像の上の表示は「推定結果/正解」である。\n",
    "\n",
    "Parameters:\n",
    "----------\n",
    "y_pred : 推定値のndarray (n_samples,)\n",
    "y_val : 検証用データの正解ラベル(n_samples,)\n",
    "X_val : 検証用データの特徴量（n_samples, n_features)\n",
    "\"\"\"\n",
    "import numpy as np\n",
    "import matplotlib.pyplot as plt\n",
    "\n",
    "num = 36 # いくつ表示するか\n",
    "\n",
    "true_false = y_pred==y_test\n",
    "false_list = np.where(true_false==False)[0].astype(np.int)\n",
    "\n",
    "if false_list.shape[0] < num:\n",
    "    num = false_list.shape[0]\n",
    "fig = plt.figure(figsize=(6, 6))\n",
    "fig.subplots_adjust(left=0, right=0.8,  bottom=0, top=0.8, hspace=1, wspace=0.5)\n",
    "for i in range(num):\n",
    "    ax = fig.add_subplot(6, 6, i + 1, xticks=[], yticks=[])\n",
    "    ax.set_title(\"{} / {}\".format(y_pred[false_list[i]],y_test[false_list[i]]))\n",
    "    ax.imshow(X_test.reshape(-1,28,28)[false_list[i]], cmap='gray')"
   ]
  },
  {
   "cell_type": "markdown",
   "metadata": {},
   "source": [
    "### ミニバッチ処理\n",
    "これまでの機械学習スクラッチでは、全てのサンプルを一度に計算していました。しかし、ニューラルネットワークではデータを分割して入力する確率的勾配降下法が一般的です。分割した際のひとかたまりをミニバッチ、そのサンプル数をバッチサイズと呼びます。\n",
    "今回はバッチサイズを10とします。今回使う学習用データは48000枚ですから、4800回の更新を繰り返すことになります。ニューラルネットワークではこれを4800回イテレーション（iteration）すると呼びます。学習データを一度全て見ると1回のエポック（epoch）が終わったことになります。このエポックを複数回繰り返し、学習が完了します。\n",
    "これを実現するための簡素なイテレータを用意しました。for文で呼び出すと、ミニバッチを取得できます。\n",
    "コード"
   ]
  },
  {
   "cell_type": "code",
   "execution_count": null,
   "metadata": {},
   "outputs": [],
   "source": [
    "class GetMiniBatch:\n",
    "    \"\"\"\n",
    "    ミニバッチを取得するイテレータ\n",
    "\n",
    "    Parameters\n",
    "    ----------\n",
    "    X : 次の形のndarray, shape (n_samples, n_features)\n",
    "      学習データ\n",
    "    y : 次の形のndarray, shape (n_samples, 1)\n",
    "      正解値\n",
    "    batch_size : int\n",
    "      バッチサイズ\n",
    "    seed : int\n",
    "      NumPyの乱数のシード\n",
    "    \"\"\"\n",
    "    def __init__(self, X, y, batch_size = 10, seed=0):\n",
    "        self.batch_size = batch_size\n",
    "        np.random.seed(seed)\n",
    "        shuffle_index = np.random.permutation(np.arange(X.shape[0]))\n",
    "        self.X = X[shuffle_index]\n",
    "        self.y = y[shuffle_index]\n",
    "        self._stop = np.ceil(X.shape[0]/self.batch_size).astype(np.int)\n",
    "\n",
    "    def __len__(self):\n",
    "        return self._stop\n",
    "\n",
    "    def __getitem__(self,item):\n",
    "        p0 = item*self.batch_size\n",
    "        p1 = item*self.batch_size + self.batch_size\n",
    "        return self.X[p0:p1], self.y[p0:p1]        \n",
    "\n",
    "    def __iter__(self):\n",
    "        self._counter = 0\n",
    "        return self\n",
    "\n",
    "    def __next__(self):\n",
    "        if self._counter >= self._stop:\n",
    "            raise StopIteration()\n",
    "        p0 = self._counter*self.batch_size\n",
    "        p1 = self._counter*self.batch_size + self.batch_size\n",
    "        self._counter += 1\n",
    "        return self.X[p0:p1], self.y[p0:p1]"
   ]
  },
  {
   "cell_type": "markdown",
   "metadata": {},
   "source": [
    "このクラスをニューラルネットワークのクラス内でインスタンス化し、for文を使うことでミニバッチが取り出せます。"
   ]
  },
  {
   "cell_type": "code",
   "execution_count": null,
   "metadata": {},
   "outputs": [],
   "source": [
    "# 以下をニューラルネットワークのクラス内で呼び出す\n",
    "\n",
    "get_mini_batch = GetMiniBatch(X_train, y_train, batch_size=10)\n",
    "\n",
    "print(len(get_mini_batch)) # 4800\n",
    "print(get_mini_batch[5]) # 5番目のミニバッチが取得できる\n",
    "for mini_X_train, mini_y_train in get_mini_batch:\n",
    "    # このfor文内でミニバッチが使える\n",
    "    pass"
   ]
  },
  {
   "cell_type": "markdown",
   "metadata": {},
   "source": [
    "__getitem__や__next__は__init__などと同じ特殊メソッドの一種です。"
   ]
  },
  {
   "cell_type": "markdown",
   "metadata": {},
   "source": [
    "### フォワードプロパゲーション\n",
    "三層のニューラルネットワークのフォワードプロパゲーションを作成します。\n",
    "<br>以下の説明ではノード数は1層目は400、2層目は200としますが、変更しても構いません。\n",
    "<br>各層の数式を以下に示します。今回はそれぞれの記号が表す配列が、実装上どのようなndarrayのshapeになるかを併記してあります。"
   ]
  },
  {
   "cell_type": "code",
   "execution_count": null,
   "metadata": {},
   "outputs": [],
   "source": [
    "batch_size = 10 # バッチサイズ\n",
    "n_features = 784 # 特徴量の数\n",
    "n_nodes1 = 400 # 1層目のノード数\n",
    "n_nodes2 = 200 # 2層目のノード数\n",
    "n_output = 10 # 出力のクラス数（3層目のノード数）"
   ]
  },
  {
   "cell_type": "markdown",
   "metadata": {},
   "source": [
    "### 活性化関数（フォワードプロバゲーション）\n",
    "活性化関数を作成し、フォワードプロパゲーションの中で使用します。\n",
    "<br>切り替えられるように実装することを推奨しますが、片方でも構いません。\n",
    "<br>「シグモイド関数」"
   ]
  },
  {
   "cell_type": "markdown",
   "metadata": {},
   "source": [
    "$$\n",
    "f(Z) = sigmoid(A) = \\frac{1}{1+exp(-A)}\n",
    "$$"
   ]
  },
  {
   "cell_type": "code",
   "execution_count": null,
   "metadata": {},
   "outputs": [],
   "source": [
    "# def sigmoid(z):\n",
    "#     e = math.e\n",
    "#     return 1/(1+(e**-z))"
   ]
  },
  {
   "cell_type": "markdown",
   "metadata": {},
   "source": [
    "指数関数exp(−A)の計算はnp.expを使用してください。\n",
    "<br>numpy.exp — NumPy v1.15 Manual\n",
    "<br>「ハイパボリックタンジェント関数」\n",
    "<br>次の数式で表されますが、np.tanhひとつで実現できます。"
   ]
  },
  {
   "cell_type": "markdown",
   "metadata": {},
   "source": [
    "$$\n",
    "f(Z) = tanh(A) = \\frac{exp(A) - exp(-A)}{exp(A) + exp(-A)}\n",
    "$$"
   ]
  },
  {
   "cell_type": "code",
   "execution_count": null,
   "metadata": {},
   "outputs": [],
   "source": [
    "# np.tanh(X_train)"
   ]
  },
  {
   "cell_type": "markdown",
   "metadata": {},
   "source": [
    "numpy.tanh — NumPy v1.15 Manual\n",
    "<br>＊現在ではこれらの代わりにReLUと呼ばれる活性化関数が一般的です。次のSprintで扱います。"
   ]
  },
  {
   "cell_type": "markdown",
   "metadata": {},
   "source": [
    "### ソフトマックス関数\n",
    "ソフトマックス関数を作成し、フォワードプロパゲーションの中で使用します。\n",
    "<br>これも活性化関数の一種ですが、多クラス分類の出力層で使われる特性上、区別して扱われることが多いです。\n",
    "<br>次の数式です。"
   ]
  },
  {
   "cell_type": "markdown",
   "metadata": {},
   "source": [
    "$$\n",
    "Z_{3\\_k} = \\frac{exp(A_{3\\_k})}{\\sum_{i=1}^{n}exp(A_{3\\_i})}\n",
    "$$"
   ]
  },
  {
   "cell_type": "code",
   "execution_count": null,
   "metadata": {},
   "outputs": [],
   "source": [
    "def softmax(x):\n",
    "    if x.ndim == 2:\n",
    "        x = x.T\n",
    "        x = x - np.max(x, axis=0)\n",
    "        y = np.exp(x) / np.sum(np.exp(x), axis=0)\n",
    "        return y.T\n",
    "\n",
    "    x = x - np.max(x)\n",
    "    return np.exp(x) / np.sum(np.exp(x))"
   ]
  },
  {
   "cell_type": "markdown",
   "metadata": {},
   "source": [
    "Z3k:k番目のクラスの確率ベクトル (batch_size,)\n",
    "<br>A3k:k番目のクラスにあたる前の層からのベクトル (batch_size,)\n",
    "<br>n: クラスの数、n_output。今回のMNISTでは10。\n",
    "<br>分母は全てのクラスに相当する値を指数関数に通した上で足し合わせたものです。その中で、分子に \n",
    "<br>k番目のクラスを持ってくることで、 k番目のクラスである確率が求まります。\n",
    "<br>これを10クラス分計算し、合わせたものが Z3です。"
   ]
  },
  {
   "cell_type": "markdown",
   "metadata": {},
   "source": [
    "### 交差エントロピー誤差\n",
    "目的関数（損失関数）を作成します。\n",
    "<br>多クラス分類の目的関数である交差エントロピー誤差Lは次の数式です。"
   ]
  },
  {
   "cell_type": "markdown",
   "metadata": {},
   "source": [
    "$$\n",
    "L = - \\sum_{i}^{n}Y_i log(Z_{3\\_i})\n",
    "$$"
   ]
  },
  {
   "cell_type": "markdown",
   "metadata": {},
   "source": [
    "Yi:i番目のクラスの正解ラベル（one-hot表現で0か1）"
   ]
  },
  {
   "cell_type": "code",
   "execution_count": null,
   "metadata": {},
   "outputs": [],
   "source": []
  },
  {
   "cell_type": "markdown",
   "metadata": {},
   "source": [
    "### バックプロパゲーション\n",
    "三層のニューラルネットワークのバックプロパゲーションを作成します。確率的勾配降下法を行う部分です。\n",
    "<br>数式を以下に示します。\n",
    "<br>まず、i層目の重みとバイアスの更新式です。 \n",
    "<br>WiとBiに対し、更新後のW'iとB'iは次の数式で求められます。"
   ]
  },
  {
   "cell_type": "markdown",
   "metadata": {},
   "source": [
    "$$\n",
    "W_i^{\\prime} = W_i - \\alpha E(\\frac{\\partial L}{\\partial W_i}) \\\\\n",
    "B_i^{\\prime} = B_i - \\alpha E(\\frac{\\partial L}{\\partial B_i})\n",
    "$$"
   ]
  },
  {
   "cell_type": "markdown",
   "metadata": {},
   "source": [
    "α: 学習率（層ごとに変えることも可能だが、基本的には全て同じとする）\n",
    "<br>∂L∂Wi:Wiに関する損失 \n",
    "<br>Lの勾配∂L∂Bi:Biに関する損失 \n",
    "<br>Lの勾配\n",
    "<br>E(): ミニバッチ方向にベクトルの平均を計算\n",
    "<br>この更新方法はSprint3線形回帰やsprint4ロジスティック回帰における最急降下法と同様です。より効果的な更新方法が知られており、それは次のSprintで扱います。\n",
    "<br>\n",
    "<br>勾配 \n",
    "<br>∂L∂Wiや∂L∂Biを求めるために、バックプロパゲーションを行います。以下の数式です。\n",
    "<br>ハイパボリックタンジェント関数を使用した例を載せました。シグモイド関数の場合の数式はその後ろにあります。\n",
    "<br>「3層目」"
   ]
  },
  {
   "cell_type": "markdown",
   "metadata": {},
   "source": [
    "## 【問題2】学習曲線のプロット\n",
    "学習曲線をプロットしてください。\n",
    "ニューラルネットワークは過学習が発生しやすいため、学習曲線の確認が重要です。trainデータとvalデータに対するエポックごとの損失（交差エントロピー誤差）を記録できるようにする必要があります。"
   ]
  },
  {
   "cell_type": "code",
   "execution_count": null,
   "metadata": {},
   "outputs": [],
   "source": []
  },
  {
   "cell_type": "markdown",
   "metadata": {},
   "source": [
    "## 【問題3】指標値の算出\n",
    "分類に関する指標値で精度を確認してください。"
   ]
  },
  {
   "cell_type": "code",
   "execution_count": null,
   "metadata": {},
   "outputs": [],
   "source": []
  },
  {
   "cell_type": "markdown",
   "metadata": {},
   "source": [
    "## （オプション）誤分類の確認\n",
    "誤分類した画像はどのようなものだったかを見てみましょう。推定値を用意し、以下のコードを実行してください。\n",
    "コード"
   ]
  },
  {
   "cell_type": "code",
   "execution_count": null,
   "metadata": {},
   "outputs": [],
   "source": [
    "\"\"\"\n",
    "語分類結果を並べて表示する。画像の上の表示は「推定結果/正解」である。\n",
    "\n",
    "Parameters:\n",
    "----------\n",
    "y_pred : 推定値のndarray (n_samples,)\n",
    "y_val : 検証用データの正解ラベル(n_samples,)\n",
    "X_val : 検証用データの特徴量（n_samples, n_features)\n",
    "\"\"\"\n",
    "import numpy as np\n",
    "import matplotlib.pyplot as plt\n",
    "\n",
    "num = 36 # いくつ表示するか\n",
    "\n",
    "true_false = y_pred==y_val\n",
    "false_list = np.where(true_false==False)[0].astype(np.int)\n",
    "\n",
    "if false_list.shape[0] < num:\n",
    "    num = false_list.shape[0]\n",
    "fig = plt.figure(figsize=(6, 6))\n",
    "fig.subplots_adjust(left=0, right=0.8,  bottom=0, top=0.8, hspace=1, wspace=0.5)\n",
    "for i in range(num):\n",
    "    ax = fig.add_subplot(6, 6, i + 1, xticks=[], yticks=[])\n",
    "    ax.set_title(\"{} / {}\".format(y_pred[false_list[i]],y_val[false_list[i]]))\n",
    "    ax.imshow(X_val.reshape(-1,28,28)[false_list[i]], cmap='gray')"
   ]
  }
 ],
 "metadata": {
  "kernelspec": {
   "display_name": "Python 3",
   "language": "python",
   "name": "python3"
  },
  "language_info": {
   "codemirror_mode": {
    "name": "ipython",
    "version": 3
   },
   "file_extension": ".py",
   "mimetype": "text/x-python",
   "name": "python",
   "nbconvert_exporter": "python",
   "pygments_lexer": "ipython3",
   "version": "3.6.8"
  },
  "toc": {
   "base_numbering": 1,
   "nav_menu": {},
   "number_sections": true,
   "sideBar": true,
   "skip_h1_title": false,
   "title_cell": "Table of Contents",
   "title_sidebar": "Contents",
   "toc_cell": false,
   "toc_position": {},
   "toc_section_display": true,
   "toc_window_display": true
  }
 },
 "nbformat": 4,
 "nbformat_minor": 2
}
